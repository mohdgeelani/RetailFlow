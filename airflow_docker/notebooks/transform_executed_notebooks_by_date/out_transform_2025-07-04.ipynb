{
 "cells": [
  {
   "cell_type": "code",
   "execution_count": 1,
   "id": "00d213eb",
   "metadata": {
    "execution": {
     "iopub.execute_input": "2025-07-04T09:05:09.324897Z",
     "iopub.status.busy": "2025-07-04T09:05:09.324023Z",
     "iopub.status.idle": "2025-07-04T09:05:10.158970Z",
     "shell.execute_reply": "2025-07-04T09:05:10.158025Z"
    },
    "jupyter": {
     "source_hidden": true
    },
    "papermill": {
     "duration": 0.849629,
     "end_time": "2025-07-04T09:05:10.161704",
     "exception": false,
     "start_time": "2025-07-04T09:05:09.312075",
     "status": "completed"
    },
    "tags": []
   },
   "outputs": [],
   "source": [
    "import pandas as pd\n",
    "import os\n",
    "from datetime import datetime\n",
    "import matplotlib.pyplot as plt\n",
    "import seaborn as sns"
   ]
  },
  {
   "cell_type": "code",
   "execution_count": 2,
   "id": "6e2bd71b",
   "metadata": {
    "execution": {
     "iopub.execute_input": "2025-07-04T09:05:10.192381Z",
     "iopub.status.busy": "2025-07-04T09:05:10.191670Z",
     "iopub.status.idle": "2025-07-04T09:05:10.196330Z",
     "shell.execute_reply": "2025-07-04T09:05:10.195424Z"
    },
    "jupyter": {
     "source_hidden": true
    },
    "papermill": {
     "duration": 0.023555,
     "end_time": "2025-07-04T09:05:10.198111",
     "exception": false,
     "start_time": "2025-07-04T09:05:10.174556",
     "status": "completed"
    },
    "tags": []
   },
   "outputs": [],
   "source": [
    "# print(os.path.exists('data'))\n",
    "# import os\n",
    "# print(os.getcwd())\n"
   ]
  },
  {
   "cell_type": "code",
   "execution_count": 3,
   "id": "be7a3021",
   "metadata": {
    "execution": {
     "iopub.execute_input": "2025-07-04T09:05:10.222198Z",
     "iopub.status.busy": "2025-07-04T09:05:10.221304Z",
     "iopub.status.idle": "2025-07-04T09:05:10.253184Z",
     "shell.execute_reply": "2025-07-04T09:05:10.252172Z"
    },
    "jupyter": {
     "source_hidden": true
    },
    "papermill": {
     "duration": 0.047469,
     "end_time": "2025-07-04T09:05:10.254520",
     "exception": false,
     "start_time": "2025-07-04T09:05:10.207051",
     "status": "completed"
    },
    "tags": []
   },
   "outputs": [
    {
     "name": "stdout",
     "output_type": "stream",
     "text": [
      "/opt/airflow/data/processed_data\n",
      "laoding file  cleaned_2025-07-04.csv\n"
     ]
    },
    {
     "data": {
      "text/html": [
       "<div>\n",
       "<style scoped>\n",
       "    .dataframe tbody tr th:only-of-type {\n",
       "        vertical-align: middle;\n",
       "    }\n",
       "\n",
       "    .dataframe tbody tr th {\n",
       "        vertical-align: top;\n",
       "    }\n",
       "\n",
       "    .dataframe thead th {\n",
       "        text-align: right;\n",
       "    }\n",
       "</style>\n",
       "<table border=\"1\" class=\"dataframe\">\n",
       "  <thead>\n",
       "    <tr style=\"text-align: right;\">\n",
       "      <th></th>\n",
       "      <th>Transaction ID</th>\n",
       "      <th>Date</th>\n",
       "      <th>Customer ID</th>\n",
       "      <th>Gender</th>\n",
       "      <th>Age</th>\n",
       "      <th>Product Category</th>\n",
       "      <th>Quantity</th>\n",
       "      <th>Price per Unit</th>\n",
       "      <th>Total Amount</th>\n",
       "    </tr>\n",
       "  </thead>\n",
       "  <tbody>\n",
       "    <tr>\n",
       "      <th>0</th>\n",
       "      <td>1</td>\n",
       "      <td>2023-11-24</td>\n",
       "      <td>CUST001</td>\n",
       "      <td>Male</td>\n",
       "      <td>34</td>\n",
       "      <td>Beauty</td>\n",
       "      <td>3</td>\n",
       "      <td>50</td>\n",
       "      <td>150</td>\n",
       "    </tr>\n",
       "    <tr>\n",
       "      <th>1</th>\n",
       "      <td>2</td>\n",
       "      <td>2023-02-27</td>\n",
       "      <td>CUST002</td>\n",
       "      <td>Female</td>\n",
       "      <td>26</td>\n",
       "      <td>Clothing</td>\n",
       "      <td>2</td>\n",
       "      <td>500</td>\n",
       "      <td>1000</td>\n",
       "    </tr>\n",
       "    <tr>\n",
       "      <th>2</th>\n",
       "      <td>3</td>\n",
       "      <td>2023-01-13</td>\n",
       "      <td>CUST003</td>\n",
       "      <td>Male</td>\n",
       "      <td>50</td>\n",
       "      <td>Electronics</td>\n",
       "      <td>1</td>\n",
       "      <td>30</td>\n",
       "      <td>30</td>\n",
       "    </tr>\n",
       "    <tr>\n",
       "      <th>3</th>\n",
       "      <td>4</td>\n",
       "      <td>2023-05-21</td>\n",
       "      <td>CUST004</td>\n",
       "      <td>Male</td>\n",
       "      <td>37</td>\n",
       "      <td>Clothing</td>\n",
       "      <td>1</td>\n",
       "      <td>500</td>\n",
       "      <td>500</td>\n",
       "    </tr>\n",
       "    <tr>\n",
       "      <th>4</th>\n",
       "      <td>5</td>\n",
       "      <td>2023-05-06</td>\n",
       "      <td>CUST005</td>\n",
       "      <td>Male</td>\n",
       "      <td>30</td>\n",
       "      <td>Beauty</td>\n",
       "      <td>2</td>\n",
       "      <td>50</td>\n",
       "      <td>100</td>\n",
       "    </tr>\n",
       "    <tr>\n",
       "      <th>...</th>\n",
       "      <td>...</td>\n",
       "      <td>...</td>\n",
       "      <td>...</td>\n",
       "      <td>...</td>\n",
       "      <td>...</td>\n",
       "      <td>...</td>\n",
       "      <td>...</td>\n",
       "      <td>...</td>\n",
       "      <td>...</td>\n",
       "    </tr>\n",
       "    <tr>\n",
       "      <th>63</th>\n",
       "      <td>64</td>\n",
       "      <td>2023-12-27</td>\n",
       "      <td>CUST065</td>\n",
       "      <td>Male</td>\n",
       "      <td>18</td>\n",
       "      <td>Vehicle</td>\n",
       "      <td>2</td>\n",
       "      <td>50</td>\n",
       "      <td>120</td>\n",
       "    </tr>\n",
       "    <tr>\n",
       "      <th>64</th>\n",
       "      <td>65</td>\n",
       "      <td>2023-12-27</td>\n",
       "      <td>CUST066</td>\n",
       "      <td>Male</td>\n",
       "      <td>18</td>\n",
       "      <td>food</td>\n",
       "      <td>2</td>\n",
       "      <td>50</td>\n",
       "      <td>100</td>\n",
       "    </tr>\n",
       "    <tr>\n",
       "      <th>65</th>\n",
       "      <td>66</td>\n",
       "      <td>2023-12-27</td>\n",
       "      <td>CUST067</td>\n",
       "      <td>Male</td>\n",
       "      <td>18</td>\n",
       "      <td>food</td>\n",
       "      <td>2</td>\n",
       "      <td>50</td>\n",
       "      <td>100</td>\n",
       "    </tr>\n",
       "    <tr>\n",
       "      <th>66</th>\n",
       "      <td>67</td>\n",
       "      <td>2023-12-27</td>\n",
       "      <td>CUST066</td>\n",
       "      <td>Male</td>\n",
       "      <td>18</td>\n",
       "      <td>food</td>\n",
       "      <td>2</td>\n",
       "      <td>50</td>\n",
       "      <td>100</td>\n",
       "    </tr>\n",
       "    <tr>\n",
       "      <th>67</th>\n",
       "      <td>68</td>\n",
       "      <td>2023-12-27</td>\n",
       "      <td>CUST067</td>\n",
       "      <td>Female</td>\n",
       "      <td>18</td>\n",
       "      <td>food</td>\n",
       "      <td>2</td>\n",
       "      <td>50</td>\n",
       "      <td>100</td>\n",
       "    </tr>\n",
       "  </tbody>\n",
       "</table>\n",
       "<p>68 rows × 9 columns</p>\n",
       "</div>"
      ],
      "text/plain": [
       "    Transaction ID        Date Customer ID  Gender  Age Product Category  \\\n",
       "0                1  2023-11-24     CUST001    Male   34           Beauty   \n",
       "1                2  2023-02-27     CUST002  Female   26         Clothing   \n",
       "2                3  2023-01-13     CUST003    Male   50      Electronics   \n",
       "3                4  2023-05-21     CUST004    Male   37         Clothing   \n",
       "4                5  2023-05-06     CUST005    Male   30           Beauty   \n",
       "..             ...         ...         ...     ...  ...              ...   \n",
       "63              64  2023-12-27     CUST065    Male   18          Vehicle   \n",
       "64              65  2023-12-27     CUST066    Male   18             food   \n",
       "65              66  2023-12-27     CUST067    Male   18             food   \n",
       "66              67  2023-12-27     CUST066    Male   18             food   \n",
       "67              68  2023-12-27     CUST067  Female   18             food   \n",
       "\n",
       "    Quantity  Price per Unit  Total Amount  \n",
       "0          3              50           150  \n",
       "1          2             500          1000  \n",
       "2          1              30            30  \n",
       "3          1             500           500  \n",
       "4          2              50           100  \n",
       "..       ...             ...           ...  \n",
       "63         2              50           120  \n",
       "64         2              50           100  \n",
       "65         2              50           100  \n",
       "66         2              50           100  \n",
       "67         2              50           100  \n",
       "\n",
       "[68 rows x 9 columns]"
      ]
     },
     "execution_count": 3,
     "metadata": {},
     "output_type": "execute_result"
    }
   ],
   "source": [
    "# process_folder = os.path.join('..','data','processed_data')\n",
    "def get_processed_dir():\n",
    "    project_root = os.path.abspath(os.path.join(os.getcwd(), \"..\"))  \n",
    "    local_path = os.path.join(project_root, \"data\", \"processed_data\")\n",
    "    # Detects path based on environment (Docker vs. local)\n",
    "    if os.path.exists(\"/opt/airflow/data/processed_data\"):\n",
    "        return \"/opt/airflow/data/processed_data\"  # Docker path\n",
    "    else:\n",
    "        return local_path# Local path\n",
    "    \n",
    "process_folder = get_processed_dir()\n",
    "print(process_folder)\n",
    "\n",
    "files = [ f for f in os.listdir(process_folder) if f.startswith('cleaned_') and \n",
    "         f.endswith('.csv')]\n",
    "files.sort(reverse=True)\n",
    "latest_file = files[0]\n",
    "latest_path_input = os.path.join(process_folder,latest_file)\n",
    "df = pd.read_csv(latest_path_input)\n",
    "\n",
    "print(\"laoding file \", latest_file)\n",
    "df.head(100)"
   ]
  },
  {
   "cell_type": "code",
   "execution_count": 4,
   "id": "a1a5bfba",
   "metadata": {
    "execution": {
     "iopub.execute_input": "2025-07-04T09:05:10.281657Z",
     "iopub.status.busy": "2025-07-04T09:05:10.280802Z",
     "iopub.status.idle": "2025-07-04T09:05:10.290545Z",
     "shell.execute_reply": "2025-07-04T09:05:10.289184Z"
    },
    "jupyter": {
     "source_hidden": true
    },
    "papermill": {
     "duration": 0.029613,
     "end_time": "2025-07-04T09:05:10.293587",
     "exception": false,
     "start_time": "2025-07-04T09:05:10.263974",
     "status": "completed"
    },
    "tags": []
   },
   "outputs": [
    {
     "name": "stdout",
     "output_type": "stream",
     "text": [
      "Number of duplicated rows 0\n"
     ]
    }
   ],
   "source": [
    "duplicate_count = df.duplicated().sum()\n",
    "print(\"Number of duplicated rows\", duplicate_count)"
   ]
  },
  {
   "cell_type": "code",
   "execution_count": 5,
   "id": "30610d2c",
   "metadata": {
    "execution": {
     "iopub.execute_input": "2025-07-04T09:05:10.327526Z",
     "iopub.status.busy": "2025-07-04T09:05:10.326401Z",
     "iopub.status.idle": "2025-07-04T09:05:10.334488Z",
     "shell.execute_reply": "2025-07-04T09:05:10.333285Z"
    },
    "jupyter": {
     "source_hidden": true
    },
    "papermill": {
     "duration": 0.026535,
     "end_time": "2025-07-04T09:05:10.336226",
     "exception": false,
     "start_time": "2025-07-04T09:05:10.309691",
     "status": "completed"
    },
    "tags": []
   },
   "outputs": [
    {
     "data": {
      "text/plain": [
       "Transaction ID      0\n",
       "Date                0\n",
       "Customer ID         0\n",
       "Gender              0\n",
       "Age                 0\n",
       "Product Category    0\n",
       "Quantity            0\n",
       "Price per Unit      0\n",
       "Total Amount        0\n",
       "dtype: int64"
      ]
     },
     "execution_count": 5,
     "metadata": {},
     "output_type": "execute_result"
    }
   ],
   "source": [
    "# Check for null/missing values\n",
    "df.isnull().sum()\n"
   ]
  },
  {
   "cell_type": "code",
   "execution_count": 6,
   "id": "1122e299",
   "metadata": {
    "execution": {
     "iopub.execute_input": "2025-07-04T09:05:10.361916Z",
     "iopub.status.busy": "2025-07-04T09:05:10.361114Z",
     "iopub.status.idle": "2025-07-04T09:05:10.375664Z",
     "shell.execute_reply": "2025-07-04T09:05:10.374154Z"
    },
    "jupyter": {
     "source_hidden": true
    },
    "papermill": {
     "duration": 0.031449,
     "end_time": "2025-07-04T09:05:10.377329",
     "exception": false,
     "start_time": "2025-07-04T09:05:10.345880",
     "status": "completed"
    },
    "tags": []
   },
   "outputs": [
    {
     "name": "stdout",
     "output_type": "stream",
     "text": [
      "<class 'pandas.core.frame.DataFrame'>\n",
      "RangeIndex: 68 entries, 0 to 67\n",
      "Data columns (total 9 columns):\n",
      " #   Column            Non-Null Count  Dtype \n",
      "---  ------            --------------  ----- \n",
      " 0   Transaction ID    68 non-null     int64 \n",
      " 1   Date              68 non-null     object\n",
      " 2   Customer ID       68 non-null     object\n",
      " 3   Gender            68 non-null     object\n",
      " 4   Age               68 non-null     int64 \n",
      " 5   Product Category  68 non-null     object\n",
      " 6   Quantity          68 non-null     int64 \n",
      " 7   Price per Unit    68 non-null     int64 \n",
      " 8   Total Amount      68 non-null     int64 \n",
      "dtypes: int64(5), object(4)\n",
      "memory usage: 4.9+ KB\n"
     ]
    }
   ],
   "source": [
    "df.info()"
   ]
  },
  {
   "cell_type": "code",
   "execution_count": 7,
   "id": "f0fb22d3",
   "metadata": {
    "execution": {
     "iopub.execute_input": "2025-07-04T09:05:10.402482Z",
     "iopub.status.busy": "2025-07-04T09:05:10.401751Z",
     "iopub.status.idle": "2025-07-04T09:05:10.413511Z",
     "shell.execute_reply": "2025-07-04T09:05:10.412427Z"
    },
    "jupyter": {
     "source_hidden": true
    },
    "papermill": {
     "duration": 0.02777,
     "end_time": "2025-07-04T09:05:10.414724",
     "exception": false,
     "start_time": "2025-07-04T09:05:10.386954",
     "status": "completed"
    },
    "tags": []
   },
   "outputs": [
    {
     "name": "stdout",
     "output_type": "stream",
     "text": [
      "<class 'pandas.core.frame.DataFrame'>\n",
      "RangeIndex: 68 entries, 0 to 67\n",
      "Data columns (total 9 columns):\n",
      " #   Column            Non-Null Count  Dtype         \n",
      "---  ------            --------------  -----         \n",
      " 0   Transaction ID    68 non-null     int64         \n",
      " 1   Date              68 non-null     datetime64[ns]\n",
      " 2   Customer ID       68 non-null     object        \n",
      " 3   Gender            68 non-null     object        \n",
      " 4   Age               68 non-null     int64         \n",
      " 5   Product Category  68 non-null     object        \n",
      " 6   Quantity          68 non-null     int64         \n",
      " 7   Price per Unit    68 non-null     int64         \n",
      " 8   Total Amount      68 non-null     int64         \n",
      "dtypes: datetime64[ns](1), int64(5), object(3)\n",
      "memory usage: 4.9+ KB\n"
     ]
    }
   ],
   "source": [
    "df['Date'] = pd.to_datetime(df['Date'])\n",
    "df.info()"
   ]
  },
  {
   "cell_type": "code",
   "execution_count": 8,
   "id": "53725487",
   "metadata": {
    "execution": {
     "iopub.execute_input": "2025-07-04T09:05:10.441985Z",
     "iopub.status.busy": "2025-07-04T09:05:10.441307Z",
     "iopub.status.idle": "2025-07-04T09:05:10.454538Z",
     "shell.execute_reply": "2025-07-04T09:05:10.453515Z"
    },
    "jupyter": {
     "source_hidden": true
    },
    "papermill": {
     "duration": 0.030242,
     "end_time": "2025-07-04T09:05:10.455834",
     "exception": false,
     "start_time": "2025-07-04T09:05:10.425592",
     "status": "completed"
    },
    "tags": []
   },
   "outputs": [
    {
     "data": {
      "text/html": [
       "<div>\n",
       "<style scoped>\n",
       "    .dataframe tbody tr th:only-of-type {\n",
       "        vertical-align: middle;\n",
       "    }\n",
       "\n",
       "    .dataframe tbody tr th {\n",
       "        vertical-align: top;\n",
       "    }\n",
       "\n",
       "    .dataframe thead th {\n",
       "        text-align: right;\n",
       "    }\n",
       "</style>\n",
       "<table border=\"1\" class=\"dataframe\">\n",
       "  <thead>\n",
       "    <tr style=\"text-align: right;\">\n",
       "      <th></th>\n",
       "      <th>Transaction ID</th>\n",
       "      <th>Date</th>\n",
       "      <th>Customer ID</th>\n",
       "      <th>Gender</th>\n",
       "      <th>Age</th>\n",
       "      <th>Product Category</th>\n",
       "      <th>Quantity</th>\n",
       "      <th>Price per Unit</th>\n",
       "      <th>Total Amount</th>\n",
       "    </tr>\n",
       "  </thead>\n",
       "  <tbody>\n",
       "    <tr>\n",
       "      <th>0</th>\n",
       "      <td>1</td>\n",
       "      <td>2023-11-24</td>\n",
       "      <td>CUST001</td>\n",
       "      <td>Male</td>\n",
       "      <td>34</td>\n",
       "      <td>Beauty</td>\n",
       "      <td>3</td>\n",
       "      <td>50</td>\n",
       "      <td>150</td>\n",
       "    </tr>\n",
       "    <tr>\n",
       "      <th>1</th>\n",
       "      <td>2</td>\n",
       "      <td>2023-02-27</td>\n",
       "      <td>CUST002</td>\n",
       "      <td>Female</td>\n",
       "      <td>26</td>\n",
       "      <td>Clothing</td>\n",
       "      <td>2</td>\n",
       "      <td>500</td>\n",
       "      <td>1000</td>\n",
       "    </tr>\n",
       "    <tr>\n",
       "      <th>2</th>\n",
       "      <td>3</td>\n",
       "      <td>2023-01-13</td>\n",
       "      <td>CUST003</td>\n",
       "      <td>Male</td>\n",
       "      <td>50</td>\n",
       "      <td>Electronics</td>\n",
       "      <td>1</td>\n",
       "      <td>30</td>\n",
       "      <td>30</td>\n",
       "    </tr>\n",
       "    <tr>\n",
       "      <th>3</th>\n",
       "      <td>4</td>\n",
       "      <td>2023-05-21</td>\n",
       "      <td>CUST004</td>\n",
       "      <td>Male</td>\n",
       "      <td>37</td>\n",
       "      <td>Clothing</td>\n",
       "      <td>1</td>\n",
       "      <td>500</td>\n",
       "      <td>500</td>\n",
       "    </tr>\n",
       "    <tr>\n",
       "      <th>4</th>\n",
       "      <td>5</td>\n",
       "      <td>2023-05-06</td>\n",
       "      <td>CUST005</td>\n",
       "      <td>Male</td>\n",
       "      <td>30</td>\n",
       "      <td>Beauty</td>\n",
       "      <td>2</td>\n",
       "      <td>50</td>\n",
       "      <td>100</td>\n",
       "    </tr>\n",
       "    <tr>\n",
       "      <th>5</th>\n",
       "      <td>6</td>\n",
       "      <td>2023-04-25</td>\n",
       "      <td>CUST006</td>\n",
       "      <td>Female</td>\n",
       "      <td>45</td>\n",
       "      <td>Beauty</td>\n",
       "      <td>1</td>\n",
       "      <td>30</td>\n",
       "      <td>30</td>\n",
       "    </tr>\n",
       "    <tr>\n",
       "      <th>6</th>\n",
       "      <td>7</td>\n",
       "      <td>2023-03-13</td>\n",
       "      <td>CUST007</td>\n",
       "      <td>Male</td>\n",
       "      <td>46</td>\n",
       "      <td>Clothing</td>\n",
       "      <td>2</td>\n",
       "      <td>25</td>\n",
       "      <td>50</td>\n",
       "    </tr>\n",
       "    <tr>\n",
       "      <th>7</th>\n",
       "      <td>8</td>\n",
       "      <td>2023-02-22</td>\n",
       "      <td>CUST008</td>\n",
       "      <td>Male</td>\n",
       "      <td>30</td>\n",
       "      <td>Electronics</td>\n",
       "      <td>4</td>\n",
       "      <td>25</td>\n",
       "      <td>100</td>\n",
       "    </tr>\n",
       "    <tr>\n",
       "      <th>8</th>\n",
       "      <td>9</td>\n",
       "      <td>2023-12-13</td>\n",
       "      <td>CUST009</td>\n",
       "      <td>Male</td>\n",
       "      <td>63</td>\n",
       "      <td>Electronics</td>\n",
       "      <td>2</td>\n",
       "      <td>300</td>\n",
       "      <td>600</td>\n",
       "    </tr>\n",
       "    <tr>\n",
       "      <th>9</th>\n",
       "      <td>10</td>\n",
       "      <td>2023-10-07</td>\n",
       "      <td>CUST010</td>\n",
       "      <td>Female</td>\n",
       "      <td>52</td>\n",
       "      <td>Clothing</td>\n",
       "      <td>4</td>\n",
       "      <td>50</td>\n",
       "      <td>200</td>\n",
       "    </tr>\n",
       "    <tr>\n",
       "      <th>10</th>\n",
       "      <td>11</td>\n",
       "      <td>2023-02-14</td>\n",
       "      <td>CUST011</td>\n",
       "      <td>Male</td>\n",
       "      <td>23</td>\n",
       "      <td>Clothing</td>\n",
       "      <td>2</td>\n",
       "      <td>50</td>\n",
       "      <td>100</td>\n",
       "    </tr>\n",
       "    <tr>\n",
       "      <th>11</th>\n",
       "      <td>12</td>\n",
       "      <td>2023-10-30</td>\n",
       "      <td>CUST012</td>\n",
       "      <td>Male</td>\n",
       "      <td>35</td>\n",
       "      <td>Beauty</td>\n",
       "      <td>3</td>\n",
       "      <td>25</td>\n",
       "      <td>75</td>\n",
       "    </tr>\n",
       "    <tr>\n",
       "      <th>12</th>\n",
       "      <td>13</td>\n",
       "      <td>2023-08-05</td>\n",
       "      <td>CUST013</td>\n",
       "      <td>Male</td>\n",
       "      <td>22</td>\n",
       "      <td>Electronics</td>\n",
       "      <td>3</td>\n",
       "      <td>500</td>\n",
       "      <td>1500</td>\n",
       "    </tr>\n",
       "    <tr>\n",
       "      <th>13</th>\n",
       "      <td>14</td>\n",
       "      <td>2023-01-17</td>\n",
       "      <td>CUST014</td>\n",
       "      <td>Male</td>\n",
       "      <td>64</td>\n",
       "      <td>Clothing</td>\n",
       "      <td>4</td>\n",
       "      <td>30</td>\n",
       "      <td>120</td>\n",
       "    </tr>\n",
       "    <tr>\n",
       "      <th>14</th>\n",
       "      <td>15</td>\n",
       "      <td>2023-01-16</td>\n",
       "      <td>CUST015</td>\n",
       "      <td>Female</td>\n",
       "      <td>42</td>\n",
       "      <td>Electronics</td>\n",
       "      <td>4</td>\n",
       "      <td>500</td>\n",
       "      <td>2000</td>\n",
       "    </tr>\n",
       "    <tr>\n",
       "      <th>15</th>\n",
       "      <td>16</td>\n",
       "      <td>2023-02-17</td>\n",
       "      <td>CUST016</td>\n",
       "      <td>Male</td>\n",
       "      <td>19</td>\n",
       "      <td>Clothing</td>\n",
       "      <td>3</td>\n",
       "      <td>500</td>\n",
       "      <td>1500</td>\n",
       "    </tr>\n",
       "    <tr>\n",
       "      <th>16</th>\n",
       "      <td>17</td>\n",
       "      <td>2023-04-22</td>\n",
       "      <td>CUST017</td>\n",
       "      <td>Female</td>\n",
       "      <td>27</td>\n",
       "      <td>Clothing</td>\n",
       "      <td>4</td>\n",
       "      <td>25</td>\n",
       "      <td>100</td>\n",
       "    </tr>\n",
       "    <tr>\n",
       "      <th>17</th>\n",
       "      <td>18</td>\n",
       "      <td>2023-04-30</td>\n",
       "      <td>CUST018</td>\n",
       "      <td>Female</td>\n",
       "      <td>47</td>\n",
       "      <td>Electronics</td>\n",
       "      <td>2</td>\n",
       "      <td>25</td>\n",
       "      <td>50</td>\n",
       "    </tr>\n",
       "    <tr>\n",
       "      <th>18</th>\n",
       "      <td>19</td>\n",
       "      <td>2023-09-16</td>\n",
       "      <td>CUST019</td>\n",
       "      <td>Female</td>\n",
       "      <td>62</td>\n",
       "      <td>Clothing</td>\n",
       "      <td>2</td>\n",
       "      <td>25</td>\n",
       "      <td>50</td>\n",
       "    </tr>\n",
       "    <tr>\n",
       "      <th>19</th>\n",
       "      <td>20</td>\n",
       "      <td>2023-11-05</td>\n",
       "      <td>CUST020</td>\n",
       "      <td>Male</td>\n",
       "      <td>22</td>\n",
       "      <td>Clothing</td>\n",
       "      <td>3</td>\n",
       "      <td>300</td>\n",
       "      <td>900</td>\n",
       "    </tr>\n",
       "  </tbody>\n",
       "</table>\n",
       "</div>"
      ],
      "text/plain": [
       "    Transaction ID       Date Customer ID  Gender  Age Product Category  \\\n",
       "0                1 2023-11-24     CUST001    Male   34           Beauty   \n",
       "1                2 2023-02-27     CUST002  Female   26         Clothing   \n",
       "2                3 2023-01-13     CUST003    Male   50      Electronics   \n",
       "3                4 2023-05-21     CUST004    Male   37         Clothing   \n",
       "4                5 2023-05-06     CUST005    Male   30           Beauty   \n",
       "5                6 2023-04-25     CUST006  Female   45           Beauty   \n",
       "6                7 2023-03-13     CUST007    Male   46         Clothing   \n",
       "7                8 2023-02-22     CUST008    Male   30      Electronics   \n",
       "8                9 2023-12-13     CUST009    Male   63      Electronics   \n",
       "9               10 2023-10-07     CUST010  Female   52         Clothing   \n",
       "10              11 2023-02-14     CUST011    Male   23         Clothing   \n",
       "11              12 2023-10-30     CUST012    Male   35           Beauty   \n",
       "12              13 2023-08-05     CUST013    Male   22      Electronics   \n",
       "13              14 2023-01-17     CUST014    Male   64         Clothing   \n",
       "14              15 2023-01-16     CUST015  Female   42      Electronics   \n",
       "15              16 2023-02-17     CUST016    Male   19         Clothing   \n",
       "16              17 2023-04-22     CUST017  Female   27         Clothing   \n",
       "17              18 2023-04-30     CUST018  Female   47      Electronics   \n",
       "18              19 2023-09-16     CUST019  Female   62         Clothing   \n",
       "19              20 2023-11-05     CUST020    Male   22         Clothing   \n",
       "\n",
       "    Quantity  Price per Unit  Total Amount  \n",
       "0          3              50           150  \n",
       "1          2             500          1000  \n",
       "2          1              30            30  \n",
       "3          1             500           500  \n",
       "4          2              50           100  \n",
       "5          1              30            30  \n",
       "6          2              25            50  \n",
       "7          4              25           100  \n",
       "8          2             300           600  \n",
       "9          4              50           200  \n",
       "10         2              50           100  \n",
       "11         3              25            75  \n",
       "12         3             500          1500  \n",
       "13         4              30           120  \n",
       "14         4             500          2000  \n",
       "15         3             500          1500  \n",
       "16         4              25           100  \n",
       "17         2              25            50  \n",
       "18         2              25            50  \n",
       "19         3             300           900  "
      ]
     },
     "execution_count": 8,
     "metadata": {},
     "output_type": "execute_result"
    }
   ],
   "source": [
    "df.head(20)"
   ]
  },
  {
   "cell_type": "code",
   "execution_count": 9,
   "id": "c621bb50",
   "metadata": {
    "execution": {
     "iopub.execute_input": "2025-07-04T09:05:10.482399Z",
     "iopub.status.busy": "2025-07-04T09:05:10.480956Z",
     "iopub.status.idle": "2025-07-04T09:05:10.496840Z",
     "shell.execute_reply": "2025-07-04T09:05:10.495868Z"
    },
    "jupyter": {
     "source_hidden": true
    },
    "papermill": {
     "duration": 0.031557,
     "end_time": "2025-07-04T09:05:10.498144",
     "exception": false,
     "start_time": "2025-07-04T09:05:10.466587",
     "status": "completed"
    },
    "tags": []
   },
   "outputs": [
    {
     "name": "stdout",
     "output_type": "stream",
     "text": [
      "Error in number of records 2\n"
     ]
    },
    {
     "data": {
      "text/html": [
       "<div>\n",
       "<style scoped>\n",
       "    .dataframe tbody tr th:only-of-type {\n",
       "        vertical-align: middle;\n",
       "    }\n",
       "\n",
       "    .dataframe tbody tr th {\n",
       "        vertical-align: top;\n",
       "    }\n",
       "\n",
       "    .dataframe thead th {\n",
       "        text-align: right;\n",
       "    }\n",
       "</style>\n",
       "<table border=\"1\" class=\"dataframe\">\n",
       "  <thead>\n",
       "    <tr style=\"text-align: right;\">\n",
       "      <th></th>\n",
       "      <th>Transaction ID</th>\n",
       "      <th>Date</th>\n",
       "      <th>Customer ID</th>\n",
       "      <th>Gender</th>\n",
       "      <th>Age</th>\n",
       "      <th>Product Category</th>\n",
       "      <th>Quantity</th>\n",
       "      <th>Price per Unit</th>\n",
       "      <th>Total Amount</th>\n",
       "      <th>computed_total</th>\n",
       "    </tr>\n",
       "  </thead>\n",
       "  <tbody>\n",
       "    <tr>\n",
       "      <th>0</th>\n",
       "      <td>1</td>\n",
       "      <td>2023-11-24</td>\n",
       "      <td>CUST001</td>\n",
       "      <td>Male</td>\n",
       "      <td>34</td>\n",
       "      <td>Beauty</td>\n",
       "      <td>3</td>\n",
       "      <td>50</td>\n",
       "      <td>150</td>\n",
       "      <td>150</td>\n",
       "    </tr>\n",
       "    <tr>\n",
       "      <th>1</th>\n",
       "      <td>2</td>\n",
       "      <td>2023-02-27</td>\n",
       "      <td>CUST002</td>\n",
       "      <td>Female</td>\n",
       "      <td>26</td>\n",
       "      <td>Clothing</td>\n",
       "      <td>2</td>\n",
       "      <td>500</td>\n",
       "      <td>1000</td>\n",
       "      <td>1000</td>\n",
       "    </tr>\n",
       "    <tr>\n",
       "      <th>2</th>\n",
       "      <td>3</td>\n",
       "      <td>2023-01-13</td>\n",
       "      <td>CUST003</td>\n",
       "      <td>Male</td>\n",
       "      <td>50</td>\n",
       "      <td>Electronics</td>\n",
       "      <td>1</td>\n",
       "      <td>30</td>\n",
       "      <td>30</td>\n",
       "      <td>30</td>\n",
       "    </tr>\n",
       "    <tr>\n",
       "      <th>3</th>\n",
       "      <td>4</td>\n",
       "      <td>2023-05-21</td>\n",
       "      <td>CUST004</td>\n",
       "      <td>Male</td>\n",
       "      <td>37</td>\n",
       "      <td>Clothing</td>\n",
       "      <td>1</td>\n",
       "      <td>500</td>\n",
       "      <td>500</td>\n",
       "      <td>500</td>\n",
       "    </tr>\n",
       "    <tr>\n",
       "      <th>4</th>\n",
       "      <td>5</td>\n",
       "      <td>2023-05-06</td>\n",
       "      <td>CUST005</td>\n",
       "      <td>Male</td>\n",
       "      <td>30</td>\n",
       "      <td>Beauty</td>\n",
       "      <td>2</td>\n",
       "      <td>50</td>\n",
       "      <td>100</td>\n",
       "      <td>100</td>\n",
       "    </tr>\n",
       "    <tr>\n",
       "      <th>5</th>\n",
       "      <td>6</td>\n",
       "      <td>2023-04-25</td>\n",
       "      <td>CUST006</td>\n",
       "      <td>Female</td>\n",
       "      <td>45</td>\n",
       "      <td>Beauty</td>\n",
       "      <td>1</td>\n",
       "      <td>30</td>\n",
       "      <td>30</td>\n",
       "      <td>30</td>\n",
       "    </tr>\n",
       "    <tr>\n",
       "      <th>6</th>\n",
       "      <td>7</td>\n",
       "      <td>2023-03-13</td>\n",
       "      <td>CUST007</td>\n",
       "      <td>Male</td>\n",
       "      <td>46</td>\n",
       "      <td>Clothing</td>\n",
       "      <td>2</td>\n",
       "      <td>25</td>\n",
       "      <td>50</td>\n",
       "      <td>50</td>\n",
       "    </tr>\n",
       "    <tr>\n",
       "      <th>7</th>\n",
       "      <td>8</td>\n",
       "      <td>2023-02-22</td>\n",
       "      <td>CUST008</td>\n",
       "      <td>Male</td>\n",
       "      <td>30</td>\n",
       "      <td>Electronics</td>\n",
       "      <td>4</td>\n",
       "      <td>25</td>\n",
       "      <td>100</td>\n",
       "      <td>100</td>\n",
       "    </tr>\n",
       "    <tr>\n",
       "      <th>8</th>\n",
       "      <td>9</td>\n",
       "      <td>2023-12-13</td>\n",
       "      <td>CUST009</td>\n",
       "      <td>Male</td>\n",
       "      <td>63</td>\n",
       "      <td>Electronics</td>\n",
       "      <td>2</td>\n",
       "      <td>300</td>\n",
       "      <td>600</td>\n",
       "      <td>600</td>\n",
       "    </tr>\n",
       "    <tr>\n",
       "      <th>9</th>\n",
       "      <td>10</td>\n",
       "      <td>2023-10-07</td>\n",
       "      <td>CUST010</td>\n",
       "      <td>Female</td>\n",
       "      <td>52</td>\n",
       "      <td>Clothing</td>\n",
       "      <td>4</td>\n",
       "      <td>50</td>\n",
       "      <td>200</td>\n",
       "      <td>200</td>\n",
       "    </tr>\n",
       "    <tr>\n",
       "      <th>10</th>\n",
       "      <td>11</td>\n",
       "      <td>2023-02-14</td>\n",
       "      <td>CUST011</td>\n",
       "      <td>Male</td>\n",
       "      <td>23</td>\n",
       "      <td>Clothing</td>\n",
       "      <td>2</td>\n",
       "      <td>50</td>\n",
       "      <td>100</td>\n",
       "      <td>100</td>\n",
       "    </tr>\n",
       "    <tr>\n",
       "      <th>11</th>\n",
       "      <td>12</td>\n",
       "      <td>2023-10-30</td>\n",
       "      <td>CUST012</td>\n",
       "      <td>Male</td>\n",
       "      <td>35</td>\n",
       "      <td>Beauty</td>\n",
       "      <td>3</td>\n",
       "      <td>25</td>\n",
       "      <td>75</td>\n",
       "      <td>75</td>\n",
       "    </tr>\n",
       "    <tr>\n",
       "      <th>12</th>\n",
       "      <td>13</td>\n",
       "      <td>2023-08-05</td>\n",
       "      <td>CUST013</td>\n",
       "      <td>Male</td>\n",
       "      <td>22</td>\n",
       "      <td>Electronics</td>\n",
       "      <td>3</td>\n",
       "      <td>500</td>\n",
       "      <td>1500</td>\n",
       "      <td>1500</td>\n",
       "    </tr>\n",
       "    <tr>\n",
       "      <th>13</th>\n",
       "      <td>14</td>\n",
       "      <td>2023-01-17</td>\n",
       "      <td>CUST014</td>\n",
       "      <td>Male</td>\n",
       "      <td>64</td>\n",
       "      <td>Clothing</td>\n",
       "      <td>4</td>\n",
       "      <td>30</td>\n",
       "      <td>120</td>\n",
       "      <td>120</td>\n",
       "    </tr>\n",
       "    <tr>\n",
       "      <th>14</th>\n",
       "      <td>15</td>\n",
       "      <td>2023-01-16</td>\n",
       "      <td>CUST015</td>\n",
       "      <td>Female</td>\n",
       "      <td>42</td>\n",
       "      <td>Electronics</td>\n",
       "      <td>4</td>\n",
       "      <td>500</td>\n",
       "      <td>2000</td>\n",
       "      <td>2000</td>\n",
       "    </tr>\n",
       "    <tr>\n",
       "      <th>15</th>\n",
       "      <td>16</td>\n",
       "      <td>2023-02-17</td>\n",
       "      <td>CUST016</td>\n",
       "      <td>Male</td>\n",
       "      <td>19</td>\n",
       "      <td>Clothing</td>\n",
       "      <td>3</td>\n",
       "      <td>500</td>\n",
       "      <td>1500</td>\n",
       "      <td>1500</td>\n",
       "    </tr>\n",
       "    <tr>\n",
       "      <th>16</th>\n",
       "      <td>17</td>\n",
       "      <td>2023-04-22</td>\n",
       "      <td>CUST017</td>\n",
       "      <td>Female</td>\n",
       "      <td>27</td>\n",
       "      <td>Clothing</td>\n",
       "      <td>4</td>\n",
       "      <td>25</td>\n",
       "      <td>100</td>\n",
       "      <td>100</td>\n",
       "    </tr>\n",
       "    <tr>\n",
       "      <th>17</th>\n",
       "      <td>18</td>\n",
       "      <td>2023-04-30</td>\n",
       "      <td>CUST018</td>\n",
       "      <td>Female</td>\n",
       "      <td>47</td>\n",
       "      <td>Electronics</td>\n",
       "      <td>2</td>\n",
       "      <td>25</td>\n",
       "      <td>50</td>\n",
       "      <td>50</td>\n",
       "    </tr>\n",
       "    <tr>\n",
       "      <th>18</th>\n",
       "      <td>19</td>\n",
       "      <td>2023-09-16</td>\n",
       "      <td>CUST019</td>\n",
       "      <td>Female</td>\n",
       "      <td>62</td>\n",
       "      <td>Clothing</td>\n",
       "      <td>2</td>\n",
       "      <td>25</td>\n",
       "      <td>50</td>\n",
       "      <td>50</td>\n",
       "    </tr>\n",
       "    <tr>\n",
       "      <th>19</th>\n",
       "      <td>20</td>\n",
       "      <td>2023-11-05</td>\n",
       "      <td>CUST020</td>\n",
       "      <td>Male</td>\n",
       "      <td>22</td>\n",
       "      <td>Clothing</td>\n",
       "      <td>3</td>\n",
       "      <td>300</td>\n",
       "      <td>900</td>\n",
       "      <td>900</td>\n",
       "    </tr>\n",
       "  </tbody>\n",
       "</table>\n",
       "</div>"
      ],
      "text/plain": [
       "    Transaction ID       Date Customer ID  Gender  Age Product Category  \\\n",
       "0                1 2023-11-24     CUST001    Male   34           Beauty   \n",
       "1                2 2023-02-27     CUST002  Female   26         Clothing   \n",
       "2                3 2023-01-13     CUST003    Male   50      Electronics   \n",
       "3                4 2023-05-21     CUST004    Male   37         Clothing   \n",
       "4                5 2023-05-06     CUST005    Male   30           Beauty   \n",
       "5                6 2023-04-25     CUST006  Female   45           Beauty   \n",
       "6                7 2023-03-13     CUST007    Male   46         Clothing   \n",
       "7                8 2023-02-22     CUST008    Male   30      Electronics   \n",
       "8                9 2023-12-13     CUST009    Male   63      Electronics   \n",
       "9               10 2023-10-07     CUST010  Female   52         Clothing   \n",
       "10              11 2023-02-14     CUST011    Male   23         Clothing   \n",
       "11              12 2023-10-30     CUST012    Male   35           Beauty   \n",
       "12              13 2023-08-05     CUST013    Male   22      Electronics   \n",
       "13              14 2023-01-17     CUST014    Male   64         Clothing   \n",
       "14              15 2023-01-16     CUST015  Female   42      Electronics   \n",
       "15              16 2023-02-17     CUST016    Male   19         Clothing   \n",
       "16              17 2023-04-22     CUST017  Female   27         Clothing   \n",
       "17              18 2023-04-30     CUST018  Female   47      Electronics   \n",
       "18              19 2023-09-16     CUST019  Female   62         Clothing   \n",
       "19              20 2023-11-05     CUST020    Male   22         Clothing   \n",
       "\n",
       "    Quantity  Price per Unit  Total Amount  computed_total  \n",
       "0          3              50           150             150  \n",
       "1          2             500          1000            1000  \n",
       "2          1              30            30              30  \n",
       "3          1             500           500             500  \n",
       "4          2              50           100             100  \n",
       "5          1              30            30              30  \n",
       "6          2              25            50              50  \n",
       "7          4              25           100             100  \n",
       "8          2             300           600             600  \n",
       "9          4              50           200             200  \n",
       "10         2              50           100             100  \n",
       "11         3              25            75              75  \n",
       "12         3             500          1500            1500  \n",
       "13         4              30           120             120  \n",
       "14         4             500          2000            2000  \n",
       "15         3             500          1500            1500  \n",
       "16         4              25           100             100  \n",
       "17         2              25            50              50  \n",
       "18         2              25            50              50  \n",
       "19         3             300           900             900  "
      ]
     },
     "execution_count": 9,
     "metadata": {},
     "output_type": "execute_result"
    }
   ],
   "source": [
    "df['computed_total'] = df['Quantity'] * df['Price per Unit']\n",
    "\n",
    "\n",
    "error = df[df['computed_total'] != df['Total Amount']]\n",
    "print(\"Error in number of records\", len(error))\n",
    "df.head(20)\n"
   ]
  },
  {
   "cell_type": "code",
   "execution_count": 10,
   "id": "7f097ce1",
   "metadata": {
    "execution": {
     "iopub.execute_input": "2025-07-04T09:05:10.524018Z",
     "iopub.status.busy": "2025-07-04T09:05:10.523105Z",
     "iopub.status.idle": "2025-07-04T09:05:10.528172Z",
     "shell.execute_reply": "2025-07-04T09:05:10.527181Z"
    },
    "jupyter": {
     "source_hidden": true
    },
    "papermill": {
     "duration": 0.022229,
     "end_time": "2025-07-04T09:05:10.530027",
     "exception": false,
     "start_time": "2025-07-04T09:05:10.507798",
     "status": "completed"
    },
    "tags": []
   },
   "outputs": [],
   "source": [
    "# The groupby() function in Pandas involves three main steps: Splitting, Applying, and Combining.\n",
    "\n",
    "# Splitting: This step involves dividing the DataFrame into groups based on some criteria.\n",
    "# The groups are defined by unique values in one or more columns.\n",
    "# Applying: In this step, a function is applied to each group independently. You can apply various functions to each group, such as:\n",
    "# Aggregation: Calculate summary statistics (e.g., sum, mean, count) for each group.\n",
    "# Transformation: Modify the values within each group.\n",
    "# Filtering: Keep or discard groups based on certain conditions.\n",
    "# Combining: Finally, the results of the applied function are combined into a new DataFrame or Series."
   ]
  },
  {
   "cell_type": "code",
   "execution_count": 11,
   "id": "b0b2db38",
   "metadata": {
    "execution": {
     "iopub.execute_input": "2025-07-04T09:05:10.556618Z",
     "iopub.status.busy": "2025-07-04T09:05:10.555871Z",
     "iopub.status.idle": "2025-07-04T09:05:10.570130Z",
     "shell.execute_reply": "2025-07-04T09:05:10.568923Z"
    },
    "jupyter": {
     "source_hidden": true
    },
    "papermill": {
     "duration": 0.031439,
     "end_time": "2025-07-04T09:05:10.571976",
     "exception": false,
     "start_time": "2025-07-04T09:05:10.540537",
     "status": "completed"
    },
    "tags": []
   },
   "outputs": [
    {
     "data": {
      "text/html": [
       "<div>\n",
       "<style scoped>\n",
       "    .dataframe tbody tr th:only-of-type {\n",
       "        vertical-align: middle;\n",
       "    }\n",
       "\n",
       "    .dataframe tbody tr th {\n",
       "        vertical-align: top;\n",
       "    }\n",
       "\n",
       "    .dataframe thead th {\n",
       "        text-align: right;\n",
       "    }\n",
       "</style>\n",
       "<table border=\"1\" class=\"dataframe\">\n",
       "  <thead>\n",
       "    <tr style=\"text-align: right;\">\n",
       "      <th></th>\n",
       "      <th>Product Category</th>\n",
       "      <th>Total Sales Amount</th>\n",
       "      <th>Total Quantity</th>\n",
       "    </tr>\n",
       "  </thead>\n",
       "  <tbody>\n",
       "    <tr>\n",
       "      <th>0</th>\n",
       "      <td>Beauty</td>\n",
       "      <td>7120</td>\n",
       "      <td>58</td>\n",
       "    </tr>\n",
       "    <tr>\n",
       "      <th>1</th>\n",
       "      <td>Clothing</td>\n",
       "      <td>8735</td>\n",
       "      <td>56</td>\n",
       "    </tr>\n",
       "    <tr>\n",
       "      <th>2</th>\n",
       "      <td>Electronics</td>\n",
       "      <td>11340</td>\n",
       "      <td>40</td>\n",
       "    </tr>\n",
       "    <tr>\n",
       "      <th>3</th>\n",
       "      <td>Vehicle</td>\n",
       "      <td>270</td>\n",
       "      <td>4</td>\n",
       "    </tr>\n",
       "    <tr>\n",
       "      <th>4</th>\n",
       "      <td>food</td>\n",
       "      <td>400</td>\n",
       "      <td>8</td>\n",
       "    </tr>\n",
       "  </tbody>\n",
       "</table>\n",
       "</div>"
      ],
      "text/plain": [
       "  Product Category  Total Sales Amount  Total Quantity\n",
       "0           Beauty                7120              58\n",
       "1         Clothing                8735              56\n",
       "2      Electronics               11340              40\n",
       "3          Vehicle                 270               4\n",
       "4             food                 400               8"
      ]
     },
     "execution_count": 11,
     "metadata": {},
     "output_type": "execute_result"
    }
   ],
   "source": [
    "product_category_summary = df.groupby('Product Category').agg(\n",
    "    {\n",
    "    'Total Amount': 'sum',\n",
    "    'Quantity': 'sum'\n",
    "    }\n",
    ").reset_index()\n",
    "product_category_summary.columns = ['Product Category', 'Total Sales Amount', 'Total Quantity']\n",
    "product_category_summary"
   ]
  },
  {
   "cell_type": "code",
   "execution_count": 12,
   "id": "c3edd076",
   "metadata": {
    "execution": {
     "iopub.execute_input": "2025-07-04T09:05:10.602625Z",
     "iopub.status.busy": "2025-07-04T09:05:10.601822Z",
     "iopub.status.idle": "2025-07-04T09:05:10.608893Z",
     "shell.execute_reply": "2025-07-04T09:05:10.607452Z"
    },
    "jupyter": {
     "source_hidden": true
    },
    "papermill": {
     "duration": 0.027908,
     "end_time": "2025-07-04T09:05:10.610818",
     "exception": false,
     "start_time": "2025-07-04T09:05:10.582910",
     "status": "completed"
    },
    "tags": []
   },
   "outputs": [
    {
     "name": "stdout",
     "output_type": "stream",
     "text": [
      "Minimum selling category of item with it total sales : Vehicle → ₹270\n"
     ]
    }
   ],
   "source": [
    "min_category = product_category_summary.loc[product_category_summary['Total Sales Amount'].idxmin()]\n",
    "print(f\"Minimum selling category of item with it total sales : {min_category['Product Category']} → ₹{min_category['Total Sales Amount']}\")"
   ]
  },
  {
   "cell_type": "code",
   "execution_count": 13,
   "id": "b5938fde",
   "metadata": {
    "execution": {
     "iopub.execute_input": "2025-07-04T09:05:10.637271Z",
     "iopub.status.busy": "2025-07-04T09:05:10.636244Z",
     "iopub.status.idle": "2025-07-04T09:05:10.641677Z",
     "shell.execute_reply": "2025-07-04T09:05:10.640798Z"
    },
    "jupyter": {
     "source_hidden": true
    },
    "papermill": {
     "duration": 0.022124,
     "end_time": "2025-07-04T09:05:10.643187",
     "exception": false,
     "start_time": "2025-07-04T09:05:10.621063",
     "status": "completed"
    },
    "tags": []
   },
   "outputs": [
    {
     "name": "stdout",
     "output_type": "stream",
     "text": [
      "Max selling category of item with it total sales : Electronics → ₹11340\n"
     ]
    }
   ],
   "source": [
    "max_category = product_category_summary.loc[product_category_summary['Total Sales Amount'].idxmax()]\n",
    "print(f\"Max selling category of item with it total sales : {max_category['Product Category']} → ₹{max_category['Total Sales Amount']}\")"
   ]
  },
  {
   "cell_type": "code",
   "execution_count": 14,
   "id": "07d035c8",
   "metadata": {
    "execution": {
     "iopub.execute_input": "2025-07-04T09:05:10.669371Z",
     "iopub.status.busy": "2025-07-04T09:05:10.669012Z",
     "iopub.status.idle": "2025-07-04T09:05:10.683675Z",
     "shell.execute_reply": "2025-07-04T09:05:10.682735Z"
    },
    "jupyter": {
     "source_hidden": true
    },
    "papermill": {
     "duration": 0.031453,
     "end_time": "2025-07-04T09:05:10.685199",
     "exception": false,
     "start_time": "2025-07-04T09:05:10.653746",
     "status": "completed"
    },
    "tags": []
   },
   "outputs": [
    {
     "data": {
      "text/html": [
       "<div>\n",
       "<style scoped>\n",
       "    .dataframe tbody tr th:only-of-type {\n",
       "        vertical-align: middle;\n",
       "    }\n",
       "\n",
       "    .dataframe tbody tr th {\n",
       "        vertical-align: top;\n",
       "    }\n",
       "\n",
       "    .dataframe thead th {\n",
       "        text-align: right;\n",
       "    }\n",
       "</style>\n",
       "<table border=\"1\" class=\"dataframe\">\n",
       "  <thead>\n",
       "    <tr style=\"text-align: right;\">\n",
       "      <th></th>\n",
       "      <th>Product Category</th>\n",
       "      <th>Gender</th>\n",
       "      <th>Total Amount</th>\n",
       "    </tr>\n",
       "  </thead>\n",
       "  <tbody>\n",
       "    <tr>\n",
       "      <th>0</th>\n",
       "      <td>Beauty</td>\n",
       "      <td>Female</td>\n",
       "      <td>4910</td>\n",
       "    </tr>\n",
       "    <tr>\n",
       "      <th>1</th>\n",
       "      <td>Beauty</td>\n",
       "      <td>Male</td>\n",
       "      <td>2210</td>\n",
       "    </tr>\n",
       "    <tr>\n",
       "      <th>2</th>\n",
       "      <td>Clothing</td>\n",
       "      <td>Female</td>\n",
       "      <td>3145</td>\n",
       "    </tr>\n",
       "    <tr>\n",
       "      <th>3</th>\n",
       "      <td>Clothing</td>\n",
       "      <td>Male</td>\n",
       "      <td>5590</td>\n",
       "    </tr>\n",
       "    <tr>\n",
       "      <th>4</th>\n",
       "      <td>Electronics</td>\n",
       "      <td>Female</td>\n",
       "      <td>6910</td>\n",
       "    </tr>\n",
       "    <tr>\n",
       "      <th>5</th>\n",
       "      <td>Electronics</td>\n",
       "      <td>Male</td>\n",
       "      <td>4430</td>\n",
       "    </tr>\n",
       "    <tr>\n",
       "      <th>6</th>\n",
       "      <td>Vehicle</td>\n",
       "      <td>Male</td>\n",
       "      <td>270</td>\n",
       "    </tr>\n",
       "    <tr>\n",
       "      <th>7</th>\n",
       "      <td>food</td>\n",
       "      <td>Female</td>\n",
       "      <td>100</td>\n",
       "    </tr>\n",
       "    <tr>\n",
       "      <th>8</th>\n",
       "      <td>food</td>\n",
       "      <td>Male</td>\n",
       "      <td>300</td>\n",
       "    </tr>\n",
       "  </tbody>\n",
       "</table>\n",
       "</div>"
      ],
      "text/plain": [
       "  Product Category  Gender  Total Amount\n",
       "0           Beauty  Female          4910\n",
       "1           Beauty    Male          2210\n",
       "2         Clothing  Female          3145\n",
       "3         Clothing    Male          5590\n",
       "4      Electronics  Female          6910\n",
       "5      Electronics    Male          4430\n",
       "6          Vehicle    Male           270\n",
       "7             food  Female           100\n",
       "8             food    Male           300"
      ]
     },
     "execution_count": 14,
     "metadata": {},
     "output_type": "execute_result"
    }
   ],
   "source": [
    "category_gender_sales = df.groupby(['Product Category', 'Gender']).agg({\n",
    "    'Total Amount': 'sum'\n",
    "}).reset_index()\n",
    "category_gender_sales"
   ]
  },
  {
   "cell_type": "code",
   "execution_count": 15,
   "id": "60a4602f",
   "metadata": {
    "execution": {
     "iopub.execute_input": "2025-07-04T09:05:10.712952Z",
     "iopub.status.busy": "2025-07-04T09:05:10.711585Z",
     "iopub.status.idle": "2025-07-04T09:05:10.727572Z",
     "shell.execute_reply": "2025-07-04T09:05:10.726574Z"
    },
    "jupyter": {
     "source_hidden": true
    },
    "papermill": {
     "duration": 0.032869,
     "end_time": "2025-07-04T09:05:10.728978",
     "exception": false,
     "start_time": "2025-07-04T09:05:10.696109",
     "status": "completed"
    },
    "tags": []
   },
   "outputs": [
    {
     "data": {
      "text/html": [
       "<div>\n",
       "<style scoped>\n",
       "    .dataframe tbody tr th:only-of-type {\n",
       "        vertical-align: middle;\n",
       "    }\n",
       "\n",
       "    .dataframe tbody tr th {\n",
       "        vertical-align: top;\n",
       "    }\n",
       "\n",
       "    .dataframe thead th {\n",
       "        text-align: right;\n",
       "    }\n",
       "</style>\n",
       "<table border=\"1\" class=\"dataframe\">\n",
       "  <thead>\n",
       "    <tr style=\"text-align: right;\">\n",
       "      <th>Gender</th>\n",
       "      <th>Female</th>\n",
       "      <th>Male</th>\n",
       "      <th>Total Sales</th>\n",
       "    </tr>\n",
       "    <tr>\n",
       "      <th>Product Category</th>\n",
       "      <th></th>\n",
       "      <th></th>\n",
       "      <th></th>\n",
       "    </tr>\n",
       "  </thead>\n",
       "  <tbody>\n",
       "    <tr>\n",
       "      <th>Beauty</th>\n",
       "      <td>4910.0</td>\n",
       "      <td>2210.0</td>\n",
       "      <td>7120.0</td>\n",
       "    </tr>\n",
       "    <tr>\n",
       "      <th>Clothing</th>\n",
       "      <td>3145.0</td>\n",
       "      <td>5590.0</td>\n",
       "      <td>8735.0</td>\n",
       "    </tr>\n",
       "    <tr>\n",
       "      <th>Electronics</th>\n",
       "      <td>6910.0</td>\n",
       "      <td>4430.0</td>\n",
       "      <td>11340.0</td>\n",
       "    </tr>\n",
       "    <tr>\n",
       "      <th>Vehicle</th>\n",
       "      <td>0.0</td>\n",
       "      <td>270.0</td>\n",
       "      <td>270.0</td>\n",
       "    </tr>\n",
       "    <tr>\n",
       "      <th>food</th>\n",
       "      <td>100.0</td>\n",
       "      <td>300.0</td>\n",
       "      <td>400.0</td>\n",
       "    </tr>\n",
       "  </tbody>\n",
       "</table>\n",
       "</div>"
      ],
      "text/plain": [
       "Gender            Female    Male  Total Sales\n",
       "Product Category                             \n",
       "Beauty            4910.0  2210.0       7120.0\n",
       "Clothing          3145.0  5590.0       8735.0\n",
       "Electronics       6910.0  4430.0      11340.0\n",
       "Vehicle              0.0   270.0        270.0\n",
       "food               100.0   300.0        400.0"
      ]
     },
     "execution_count": 15,
     "metadata": {},
     "output_type": "execute_result"
    }
   ],
   "source": [
    "pivot_sales = category_gender_sales.pivot(index='Product Category', columns='Gender', values='Total Amount').fillna(0)\n",
    "\n",
    "pivot_sales['Total Sales'] = pivot_sales.sum(axis=1)\n",
    "\n",
    "\n",
    "# pivot_sales = pivot_sales.reset_index()\n",
    "\n",
    "pivot_sales"
   ]
  },
  {
   "cell_type": "code",
   "execution_count": 16,
   "id": "635c9756",
   "metadata": {
    "execution": {
     "iopub.execute_input": "2025-07-04T09:05:10.755008Z",
     "iopub.status.busy": "2025-07-04T09:05:10.754088Z",
     "iopub.status.idle": "2025-07-04T09:05:11.086081Z",
     "shell.execute_reply": "2025-07-04T09:05:11.084795Z"
    },
    "jupyter": {
     "source_hidden": true
    },
    "papermill": {
     "duration": 0.348673,
     "end_time": "2025-07-04T09:05:11.087700",
     "exception": false,
     "start_time": "2025-07-04T09:05:10.739027",
     "status": "completed"
    },
    "tags": []
   },
   "outputs": [
    {
     "data": {
      "image/png": "[encoded data removed]",
      "text/plain": [
       "<Figure size 1000x600 with 1 Axes>"
      ]
     },
     "metadata": {},
     "output_type": "display_data"
    }
   ],
   "source": [
    "\n",
    "plt.figure(figsize=(10, 6))\n",
    "sns.barplot(data=product_category_summary, x='Product Category', y='Total Sales Amount')\n",
    "\n",
    "plt.title(\"Total Sales by Product Category\")\n",
    "plt.ylabel(\"Total Sales Amount in rupee \")\n",
    "plt.xlabel(\"Product Category\")\n",
    "plt.show()\n"
   ]
  },
  {
   "cell_type": "code",
   "execution_count": 17,
   "id": "574da08d",
   "metadata": {
    "execution": {
     "iopub.execute_input": "2025-07-04T09:05:11.123031Z",
     "iopub.status.busy": "2025-07-04T09:05:11.121929Z",
     "iopub.status.idle": "2025-07-04T09:05:11.323412Z",
     "shell.execute_reply": "2025-07-04T09:05:11.321190Z"
    },
    "jupyter": {
     "source_hidden": true
    },
    "papermill": {
     "duration": 0.226476,
     "end_time": "2025-07-04T09:05:11.327009",
     "exception": false,
     "start_time": "2025-07-04T09:05:11.100533",
     "status": "completed"
    },
    "tags": []
   },
   "outputs": [
    {
     "data": {
      "image/png": "[encoded data removed]",
      "text/plain": [
       "<Figure size 600x600 with 1 Axes>"
      ]
     },
     "metadata": {},
     "output_type": "display_data"
    },
    {
     "data": {
      "image/png": "[encoded data removed]",
      "text/plain": [
       "<Figure size 600x600 with 1 Axes>"
      ]
     },
     "metadata": {},
     "output_type": "display_data"
    }
   ],
   "source": [
    "\n",
    "gender_category_sales = df.groupby(['Gender', 'Product Category'])['Total Amount'].sum().reset_index()\n",
    "\n",
    "\n",
    "genders = gender_category_sales['Gender'].unique()\n",
    "\n",
    "for gender in genders:\n",
    "    plt.figure(figsize=(6, 6))\n",
    "    data = gender_category_sales[gender_category_sales['Gender'] == gender]\n",
    "    plt.pie(\n",
    "        data['Total Amount'],\n",
    "        labels=data['Product Category'],\n",
    "        autopct='%1.1f%%',\n",
    "        startangle=140,\n",
    "        colors=sns.color_palette('pastel')\n",
    "    )\n",
    "    plt.title(f\"Sales Distribution by Product Category ({gender})\")\n",
    "    plt.axis('equal')\n",
    "    plt.tight_layout()\n",
    "    plt.show()\n"
   ]
  },
  {
   "cell_type": "code",
   "execution_count": 18,
   "id": "0c07a21e",
   "metadata": {
    "execution": {
     "iopub.execute_input": "2025-07-04T09:05:11.364320Z",
     "iopub.status.busy": "2025-07-04T09:05:11.363308Z",
     "iopub.status.idle": "2025-07-04T09:05:11.369131Z",
     "shell.execute_reply": "2025-07-04T09:05:11.367835Z"
    },
    "jupyter": {
     "source_hidden": true
    },
    "papermill": {
     "duration": 0.024945,
     "end_time": "2025-07-04T09:05:11.370815",
     "exception": false,
     "start_time": "2025-07-04T09:05:11.345870",
     "status": "completed"
    },
    "tags": []
   },
   "outputs": [],
   "source": [
    "os.makedirs(\"../data/transformed\", exist_ok=True)"
   ]
  },
  {
   "cell_type": "code",
   "execution_count": 19,
   "id": "85c8f8ff",
   "metadata": {
    "execution": {
     "iopub.execute_input": "2025-07-04T09:05:11.405348Z",
     "iopub.status.busy": "2025-07-04T09:05:11.404104Z",
     "iopub.status.idle": "2025-07-04T09:05:11.413018Z",
     "shell.execute_reply": "2025-07-04T09:05:11.411727Z"
    },
    "jupyter": {
     "source_hidden": true
    },
    "papermill": {
     "duration": 0.031213,
     "end_time": "2025-07-04T09:05:11.414917",
     "exception": false,
     "start_time": "2025-07-04T09:05:11.383704",
     "status": "completed"
    },
    "tags": []
   },
   "outputs": [],
   "source": [
    "df.to_csv(\"../data/transformed/final_cleaned_sales_data.csv\", index=False)"
   ]
  },
  {
   "cell_type": "code",
   "execution_count": 20,
   "id": "bada335e",
   "metadata": {
    "execution": {
     "iopub.execute_input": "2025-07-04T09:05:11.452021Z",
     "iopub.status.busy": "2025-07-04T09:05:11.450744Z",
     "iopub.status.idle": "2025-07-04T09:05:11.457009Z",
     "shell.execute_reply": "2025-07-04T09:05:11.455667Z"
    },
    "jupyter": {
     "source_hidden": true
    },
    "papermill": {
     "duration": 0.029295,
     "end_time": "2025-07-04T09:05:11.459383",
     "exception": false,
     "start_time": "2025-07-04T09:05:11.430088",
     "status": "completed"
    },
    "tags": []
   },
   "outputs": [],
   "source": [
    "os.makedirs(\"../data/aggregated\", exist_ok=True)"
   ]
  },
  {
   "cell_type": "code",
   "execution_count": 21,
   "id": "1d986834",
   "metadata": {
    "execution": {
     "iopub.execute_input": "2025-07-04T09:05:11.499278Z",
     "iopub.status.busy": "2025-07-04T09:05:11.498952Z",
     "iopub.status.idle": "2025-07-04T09:05:11.505983Z",
     "shell.execute_reply": "2025-07-04T09:05:11.504512Z"
    },
    "jupyter": {
     "source_hidden": true
    },
    "papermill": {
     "duration": 0.031318,
     "end_time": "2025-07-04T09:05:11.507914",
     "exception": false,
     "start_time": "2025-07-04T09:05:11.476596",
     "status": "completed"
    },
    "tags": []
   },
   "outputs": [],
   "source": [
    "product_category_summary.to_csv(\"../data/aggregated/sales_by_category.csv\", index=False)"
   ]
  },
  {
   "cell_type": "code",
   "execution_count": 22,
   "id": "bc630499",
   "metadata": {
    "execution": {
     "iopub.execute_input": "2025-07-04T09:05:11.543422Z",
     "iopub.status.busy": "2025-07-04T09:05:11.543080Z",
     "iopub.status.idle": "2025-07-04T09:05:11.549438Z",
     "shell.execute_reply": "2025-07-04T09:05:11.548326Z"
    },
    "jupyter": {
     "source_hidden": true
    },
    "papermill": {
     "duration": 0.028617,
     "end_time": "2025-07-04T09:05:11.551219",
     "exception": false,
     "start_time": "2025-07-04T09:05:11.522602",
     "status": "completed"
    },
    "tags": []
   },
   "outputs": [],
   "source": [
    "category_gender_sales.to_csv(\"../data/aggregated/sales_by_gender.csv\", index=False)\n"
   ]
  }
 ],
 "metadata": {
  "kernelspec": {
   "display_name": "Python 3",
   "language": "python",
   "name": "python3"
  },
  "language_info": {
   "codemirror_mode": {
    "name": "ipython",
    "version": 3
   },
   "file_extension": ".py",
   "mimetype": "text/x-python",
   "name": "python",
   "nbconvert_exporter": "python",
   "pygments_lexer": "ipython3",
   "version": "3.9.23"
  },
  "papermill": {
   "default_parameters": {},
   "duration": 4.060243,
   "end_time": "2025-07-04T09:05:11.986253",
   "environment_variables": {},
   "exception": null,
   "input_path": "/opt/airflow/notebooks/transform.ipynb",
   "output_path": "/opt/airflow/notebooks/transform_executed_notebooks_by_date/out_transform_2025-07-04.ipynb",
   "parameters": {},
   "start_time": "2025-07-04T09:05:07.926010",
   "version": "2.6.0"
  }
 },
 "nbformat": 4,
 "nbformat_minor": 5
}