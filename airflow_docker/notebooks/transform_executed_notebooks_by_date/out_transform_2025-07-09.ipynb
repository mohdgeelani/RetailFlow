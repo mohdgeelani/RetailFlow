{
 "cells": [
  {
   "cell_type": "markdown",
   "id": "e9a66004",
   "metadata": {
    "papermill": {
     "duration": 0.012686,
     "end_time": "2025-07-09T19:03:03.853003",
     "exception": false,
     "start_time": "2025-07-09T19:03:03.840317",
     "status": "completed"
    },
    "tags": []
   },
   "source": [
    "Importing Libraries"
   ]
  },
  {
   "cell_type": "code",
   "execution_count": 1,
   "id": "00d213eb",
   "metadata": {
    "execution": {
     "iopub.execute_input": "2025-07-09T19:03:03.887418Z",
     "iopub.status.busy": "2025-07-09T19:03:03.886205Z",
     "iopub.status.idle": "2025-07-09T19:03:04.993869Z",
     "shell.execute_reply": "2025-07-09T19:03:04.992065Z"
    },
    "jupyter": {
     "source_hidden": true
    },
    "papermill": {
     "duration": 1.128034,
     "end_time": "2025-07-09T19:03:04.995414",
     "exception": false,
     "start_time": "2025-07-09T19:03:03.867380",
     "status": "completed"
    },
    "tags": []
   },
   "outputs": [],
   "source": [
    "import pandas as pd\n",
    "import os\n",
    "from datetime import datetime\n",
    "import matplotlib.pyplot as plt\n",
    "import seaborn as sns"
   ]
  },
  {
   "cell_type": "markdown",
   "id": "4e35b116",
   "metadata": {
    "papermill": {
     "duration": 0.016276,
     "end_time": "2025-07-09T19:03:05.024238",
     "exception": false,
     "start_time": "2025-07-09T19:03:05.007962",
     "status": "completed"
    },
    "tags": []
   },
   "source": [
    "Loading the fresh csv file from processed data folder"
   ]
  },
  {
   "cell_type": "code",
   "execution_count": 2,
   "id": "be7a3021",
   "metadata": {
    "execution": {
     "iopub.execute_input": "2025-07-09T19:03:05.059486Z",
     "iopub.status.busy": "2025-07-09T19:03:05.058051Z",
     "iopub.status.idle": "2025-07-09T19:03:05.094403Z",
     "shell.execute_reply": "2025-07-09T19:03:05.093403Z"
    },
    "jupyter": {
     "source_hidden": true
    },
    "papermill": {
     "duration": 0.055438,
     "end_time": "2025-07-09T19:03:05.095905",
     "exception": false,
     "start_time": "2025-07-09T19:03:05.040467",
     "status": "completed"
    },
    "tags": []
   },
   "outputs": [
    {
     "name": "stdout",
     "output_type": "stream",
     "text": [
      "/opt/airflow/data/processed_data\n",
      "laoding file  cleaned_2025-07-09.csv\n"
     ]
    },
    {
     "data": {
      "text/html": [
       "<div>\n",
       "<style scoped>\n",
       "    .dataframe tbody tr th:only-of-type {\n",
       "        vertical-align: middle;\n",
       "    }\n",
       "\n",
       "    .dataframe tbody tr th {\n",
       "        vertical-align: top;\n",
       "    }\n",
       "\n",
       "    .dataframe thead th {\n",
       "        text-align: right;\n",
       "    }\n",
       "</style>\n",
       "<table border=\"1\" class=\"dataframe\">\n",
       "  <thead>\n",
       "    <tr style=\"text-align: right;\">\n",
       "      <th></th>\n",
       "      <th>Transaction ID</th>\n",
       "      <th>Date</th>\n",
       "      <th>Customer ID</th>\n",
       "      <th>Gender</th>\n",
       "      <th>Age</th>\n",
       "      <th>Product Category</th>\n",
       "      <th>Quantity</th>\n",
       "      <th>Price per Unit</th>\n",
       "      <th>Total Amount</th>\n",
       "    </tr>\n",
       "  </thead>\n",
       "  <tbody>\n",
       "    <tr>\n",
       "      <th>0</th>\n",
       "      <td>1</td>\n",
       "      <td>2023-11-24</td>\n",
       "      <td>CUST001</td>\n",
       "      <td>Male</td>\n",
       "      <td>34</td>\n",
       "      <td>Beauty</td>\n",
       "      <td>3</td>\n",
       "      <td>50</td>\n",
       "      <td>150</td>\n",
       "    </tr>\n",
       "    <tr>\n",
       "      <th>1</th>\n",
       "      <td>2</td>\n",
       "      <td>2023-02-27</td>\n",
       "      <td>CUST002</td>\n",
       "      <td>Female</td>\n",
       "      <td>26</td>\n",
       "      <td>Clothing</td>\n",
       "      <td>2</td>\n",
       "      <td>500</td>\n",
       "      <td>1000</td>\n",
       "    </tr>\n",
       "    <tr>\n",
       "      <th>2</th>\n",
       "      <td>3</td>\n",
       "      <td>2023-01-13</td>\n",
       "      <td>CUST003</td>\n",
       "      <td>Male</td>\n",
       "      <td>50</td>\n",
       "      <td>Electronics</td>\n",
       "      <td>1</td>\n",
       "      <td>30</td>\n",
       "      <td>30</td>\n",
       "    </tr>\n",
       "    <tr>\n",
       "      <th>3</th>\n",
       "      <td>4</td>\n",
       "      <td>2023-05-21</td>\n",
       "      <td>CUST004</td>\n",
       "      <td>Male</td>\n",
       "      <td>37</td>\n",
       "      <td>Clothing</td>\n",
       "      <td>1</td>\n",
       "      <td>500</td>\n",
       "      <td>500</td>\n",
       "    </tr>\n",
       "    <tr>\n",
       "      <th>4</th>\n",
       "      <td>5</td>\n",
       "      <td>2023-05-06</td>\n",
       "      <td>CUST005</td>\n",
       "      <td>Male</td>\n",
       "      <td>30</td>\n",
       "      <td>Beauty</td>\n",
       "      <td>2</td>\n",
       "      <td>50</td>\n",
       "      <td>100</td>\n",
       "    </tr>\n",
       "    <tr>\n",
       "      <th>...</th>\n",
       "      <td>...</td>\n",
       "      <td>...</td>\n",
       "      <td>...</td>\n",
       "      <td>...</td>\n",
       "      <td>...</td>\n",
       "      <td>...</td>\n",
       "      <td>...</td>\n",
       "      <td>...</td>\n",
       "      <td>...</td>\n",
       "    </tr>\n",
       "    <tr>\n",
       "      <th>57</th>\n",
       "      <td>58</td>\n",
       "      <td>2023-11-13</td>\n",
       "      <td>CUST058</td>\n",
       "      <td>Male</td>\n",
       "      <td>18</td>\n",
       "      <td>Clothing</td>\n",
       "      <td>4</td>\n",
       "      <td>300</td>\n",
       "      <td>1200</td>\n",
       "    </tr>\n",
       "    <tr>\n",
       "      <th>58</th>\n",
       "      <td>59</td>\n",
       "      <td>2023-07-05</td>\n",
       "      <td>CUST059</td>\n",
       "      <td>Male</td>\n",
       "      <td>62</td>\n",
       "      <td>Clothing</td>\n",
       "      <td>1</td>\n",
       "      <td>50</td>\n",
       "      <td>50</td>\n",
       "    </tr>\n",
       "    <tr>\n",
       "      <th>59</th>\n",
       "      <td>60</td>\n",
       "      <td>2023-10-23</td>\n",
       "      <td>CUST060</td>\n",
       "      <td>Male</td>\n",
       "      <td>30</td>\n",
       "      <td>Beauty</td>\n",
       "      <td>3</td>\n",
       "      <td>50</td>\n",
       "      <td>150</td>\n",
       "    </tr>\n",
       "    <tr>\n",
       "      <th>60</th>\n",
       "      <td>61</td>\n",
       "      <td>2023-04-09</td>\n",
       "      <td>CUST061</td>\n",
       "      <td>Male</td>\n",
       "      <td>21</td>\n",
       "      <td>Beauty</td>\n",
       "      <td>4</td>\n",
       "      <td>50</td>\n",
       "      <td>200</td>\n",
       "    </tr>\n",
       "    <tr>\n",
       "      <th>61</th>\n",
       "      <td>62</td>\n",
       "      <td>2023-12-27</td>\n",
       "      <td>CUST062</td>\n",
       "      <td>Male</td>\n",
       "      <td>18</td>\n",
       "      <td>Beauty</td>\n",
       "      <td>2</td>\n",
       "      <td>50</td>\n",
       "      <td>100</td>\n",
       "    </tr>\n",
       "  </tbody>\n",
       "</table>\n",
       "<p>62 rows × 9 columns</p>\n",
       "</div>"
      ],
      "text/plain": [
       "    Transaction ID        Date Customer ID  Gender  Age Product Category  \\\n",
       "0                1  2023-11-24     CUST001    Male   34           Beauty   \n",
       "1                2  2023-02-27     CUST002  Female   26         Clothing   \n",
       "2                3  2023-01-13     CUST003    Male   50      Electronics   \n",
       "3                4  2023-05-21     CUST004    Male   37         Clothing   \n",
       "4                5  2023-05-06     CUST005    Male   30           Beauty   \n",
       "..             ...         ...         ...     ...  ...              ...   \n",
       "57              58  2023-11-13     CUST058    Male   18         Clothing   \n",
       "58              59  2023-07-05     CUST059    Male   62         Clothing   \n",
       "59              60  2023-10-23     CUST060    Male   30           Beauty   \n",
       "60              61  2023-04-09     CUST061    Male   21           Beauty   \n",
       "61              62  2023-12-27     CUST062    Male   18           Beauty   \n",
       "\n",
       "    Quantity  Price per Unit  Total Amount  \n",
       "0          3              50           150  \n",
       "1          2             500          1000  \n",
       "2          1              30            30  \n",
       "3          1             500           500  \n",
       "4          2              50           100  \n",
       "..       ...             ...           ...  \n",
       "57         4             300          1200  \n",
       "58         1              50            50  \n",
       "59         3              50           150  \n",
       "60         4              50           200  \n",
       "61         2              50           100  \n",
       "\n",
       "[62 rows x 9 columns]"
      ]
     },
     "execution_count": 2,
     "metadata": {},
     "output_type": "execute_result"
    }
   ],
   "source": [
    "def get_processed_dir():\n",
    "    project_root = os.path.abspath(os.path.join(os.getcwd(), \"..\"))  \n",
    "    local_path = os.path.join(project_root, \"data\", \"processed_data\")\n",
    "    # Detects path based on environment (Docker vs. local)\n",
    "    if os.path.exists(\"/opt/airflow/data/processed_data\"):\n",
    "        return \"/opt/airflow/data/processed_data\"  # Docker path\n",
    "    else:\n",
    "        return local_path # Local path\n",
    "    \n",
    "process_folder = get_processed_dir()\n",
    "print(process_folder)\n",
    "\n",
    "files = [ f for f in os.listdir(process_folder) if f.startswith('cleaned_') and \n",
    "         f.endswith('.csv')]\n",
    "files.sort(reverse=True)\n",
    "latest_file = files[0]\n",
    "latest_path_input = os.path.join(process_folder,latest_file)\n",
    "df = pd.read_csv(latest_path_input)\n",
    "\n",
    "print(\"laoding file \", latest_file)\n",
    "df.head(100)"
   ]
  },
  {
   "cell_type": "markdown",
   "id": "10af0571",
   "metadata": {
    "papermill": {
     "duration": 0.016759,
     "end_time": "2025-07-09T19:03:05.123541",
     "exception": false,
     "start_time": "2025-07-09T19:03:05.106782",
     "status": "completed"
    },
    "tags": []
   },
   "source": [
    "Check for duplicate records\n"
   ]
  },
  {
   "cell_type": "code",
   "execution_count": 3,
   "id": "a1a5bfba",
   "metadata": {
    "execution": {
     "iopub.execute_input": "2025-07-09T19:03:05.153339Z",
     "iopub.status.busy": "2025-07-09T19:03:05.152624Z",
     "iopub.status.idle": "2025-07-09T19:03:05.161001Z",
     "shell.execute_reply": "2025-07-09T19:03:05.159826Z"
    },
    "jupyter": {
     "source_hidden": true
    },
    "papermill": {
     "duration": 0.025319,
     "end_time": "2025-07-09T19:03:05.162555",
     "exception": false,
     "start_time": "2025-07-09T19:03:05.137236",
     "status": "completed"
    },
    "tags": []
   },
   "outputs": [
    {
     "name": "stdout",
     "output_type": "stream",
     "text": [
      "Number of duplicated rows 0\n"
     ]
    }
   ],
   "source": [
    "duplicate_count = df.duplicated().sum()\n",
    "print(\"Number of duplicated rows\", duplicate_count)"
   ]
  },
  {
   "cell_type": "markdown",
   "id": "c4401920",
   "metadata": {
    "papermill": {
     "duration": 0.013152,
     "end_time": "2025-07-09T19:03:05.185747",
     "exception": false,
     "start_time": "2025-07-09T19:03:05.172595",
     "status": "completed"
    },
    "tags": []
   },
   "source": [
    "Check for null/missing values"
   ]
  },
  {
   "cell_type": "code",
   "execution_count": 4,
   "id": "30610d2c",
   "metadata": {
    "execution": {
     "iopub.execute_input": "2025-07-09T19:03:05.215098Z",
     "iopub.status.busy": "2025-07-09T19:03:05.214809Z",
     "iopub.status.idle": "2025-07-09T19:03:05.223517Z",
     "shell.execute_reply": "2025-07-09T19:03:05.222417Z"
    },
    "jupyter": {
     "source_hidden": true
    },
    "papermill": {
     "duration": 0.025406,
     "end_time": "2025-07-09T19:03:05.225169",
     "exception": false,
     "start_time": "2025-07-09T19:03:05.199763",
     "status": "completed"
    },
    "tags": []
   },
   "outputs": [
    {
     "data": {
      "text/plain": [
       "Transaction ID      0\n",
       "Date                0\n",
       "Customer ID         0\n",
       "Gender              0\n",
       "Age                 0\n",
       "Product Category    0\n",
       "Quantity            0\n",
       "Price per Unit      0\n",
       "Total Amount        0\n",
       "dtype: int64"
      ]
     },
     "execution_count": 4,
     "metadata": {},
     "output_type": "execute_result"
    }
   ],
   "source": [
    "df.isnull().sum()\n"
   ]
  },
  {
   "cell_type": "markdown",
   "id": "ff2ebdb2",
   "metadata": {
    "papermill": {
     "duration": 0.014809,
     "end_time": "2025-07-09T19:03:05.252271",
     "exception": false,
     "start_time": "2025-07-09T19:03:05.237462",
     "status": "completed"
    },
    "tags": []
   },
   "source": [
    "Checking the data frame column datatype information"
   ]
  },
  {
   "cell_type": "code",
   "execution_count": 5,
   "id": "1122e299",
   "metadata": {
    "execution": {
     "iopub.execute_input": "2025-07-09T19:03:05.281951Z",
     "iopub.status.busy": "2025-07-09T19:03:05.281664Z",
     "iopub.status.idle": "2025-07-09T19:03:05.293269Z",
     "shell.execute_reply": "2025-07-09T19:03:05.291974Z"
    },
    "jupyter": {
     "source_hidden": true
    },
    "papermill": {
     "duration": 0.028387,
     "end_time": "2025-07-09T19:03:05.294632",
     "exception": false,
     "start_time": "2025-07-09T19:03:05.266245",
     "status": "completed"
    },
    "tags": []
   },
   "outputs": [
    {
     "name": "stdout",
     "output_type": "stream",
     "text": [
      "<class 'pandas.core.frame.DataFrame'>\n",
      "RangeIndex: 62 entries, 0 to 61\n",
      "Data columns (total 9 columns):\n",
      " #   Column            Non-Null Count  Dtype \n",
      "---  ------            --------------  ----- \n",
      " 0   Transaction ID    62 non-null     int64 \n",
      " 1   Date              62 non-null     object\n",
      " 2   Customer ID       62 non-null     object\n",
      " 3   Gender            62 non-null     object\n",
      " 4   Age               62 non-null     int64 \n",
      " 5   Product Category  62 non-null     object\n",
      " 6   Quantity          62 non-null     int64 \n",
      " 7   Price per Unit    62 non-null     int64 \n",
      " 8   Total Amount      62 non-null     int64 \n",
      "dtypes: int64(5), object(4)\n",
      "memory usage: 4.5+ KB\n"
     ]
    }
   ],
   "source": [
    "df.info()"
   ]
  },
  {
   "cell_type": "markdown",
   "id": "745c112b",
   "metadata": {
    "papermill": {
     "duration": 0.014195,
     "end_time": "2025-07-09T19:03:05.319934",
     "exception": false,
     "start_time": "2025-07-09T19:03:05.305739",
     "status": "completed"
    },
    "tags": []
   },
   "source": [
    "Changing the Date column datatype to datetime datatype"
   ]
  },
  {
   "cell_type": "code",
   "execution_count": 6,
   "id": "f0fb22d3",
   "metadata": {
    "execution": {
     "iopub.execute_input": "2025-07-09T19:03:05.349386Z",
     "iopub.status.busy": "2025-07-09T19:03:05.348900Z",
     "iopub.status.idle": "2025-07-09T19:03:05.363613Z",
     "shell.execute_reply": "2025-07-09T19:03:05.362483Z"
    },
    "jupyter": {
     "source_hidden": true
    },
    "papermill": {
     "duration": 0.031169,
     "end_time": "2025-07-09T19:03:05.365243",
     "exception": false,
     "start_time": "2025-07-09T19:03:05.334074",
     "status": "completed"
    },
    "tags": []
   },
   "outputs": [
    {
     "name": "stdout",
     "output_type": "stream",
     "text": [
      "<class 'pandas.core.frame.DataFrame'>\n",
      "RangeIndex: 62 entries, 0 to 61\n",
      "Data columns (total 9 columns):\n",
      " #   Column            Non-Null Count  Dtype         \n",
      "---  ------            --------------  -----         \n",
      " 0   Transaction ID    62 non-null     int64         \n",
      " 1   Date              62 non-null     datetime64[ns]\n",
      " 2   Customer ID       62 non-null     object        \n",
      " 3   Gender            62 non-null     object        \n",
      " 4   Age               62 non-null     int64         \n",
      " 5   Product Category  62 non-null     object        \n",
      " 6   Quantity          62 non-null     int64         \n",
      " 7   Price per Unit    62 non-null     int64         \n",
      " 8   Total Amount      62 non-null     int64         \n",
      "dtypes: datetime64[ns](1), int64(5), object(3)\n",
      "memory usage: 4.5+ KB\n"
     ]
    }
   ],
   "source": [
    "df['Date'] = pd.to_datetime(df['Date'])\n",
    "df.info()"
   ]
  },
  {
   "cell_type": "code",
   "execution_count": 7,
   "id": "53725487",
   "metadata": {
    "execution": {
     "iopub.execute_input": "2025-07-09T19:03:05.393071Z",
     "iopub.status.busy": "2025-07-09T19:03:05.392283Z",
     "iopub.status.idle": "2025-07-09T19:03:05.407185Z",
     "shell.execute_reply": "2025-07-09T19:03:05.406166Z"
    },
    "jupyter": {
     "source_hidden": true
    },
    "papermill": {
     "duration": 0.032018,
     "end_time": "2025-07-09T19:03:05.408838",
     "exception": false,
     "start_time": "2025-07-09T19:03:05.376820",
     "status": "completed"
    },
    "tags": []
   },
   "outputs": [
    {
     "data": {
      "text/html": [
       "<div>\n",
       "<style scoped>\n",
       "    .dataframe tbody tr th:only-of-type {\n",
       "        vertical-align: middle;\n",
       "    }\n",
       "\n",
       "    .dataframe tbody tr th {\n",
       "        vertical-align: top;\n",
       "    }\n",
       "\n",
       "    .dataframe thead th {\n",
       "        text-align: right;\n",
       "    }\n",
       "</style>\n",
       "<table border=\"1\" class=\"dataframe\">\n",
       "  <thead>\n",
       "    <tr style=\"text-align: right;\">\n",
       "      <th></th>\n",
       "      <th>Transaction ID</th>\n",
       "      <th>Date</th>\n",
       "      <th>Customer ID</th>\n",
       "      <th>Gender</th>\n",
       "      <th>Age</th>\n",
       "      <th>Product Category</th>\n",
       "      <th>Quantity</th>\n",
       "      <th>Price per Unit</th>\n",
       "      <th>Total Amount</th>\n",
       "    </tr>\n",
       "  </thead>\n",
       "  <tbody>\n",
       "    <tr>\n",
       "      <th>0</th>\n",
       "      <td>1</td>\n",
       "      <td>2023-11-24</td>\n",
       "      <td>CUST001</td>\n",
       "      <td>Male</td>\n",
       "      <td>34</td>\n",
       "      <td>Beauty</td>\n",
       "      <td>3</td>\n",
       "      <td>50</td>\n",
       "      <td>150</td>\n",
       "    </tr>\n",
       "    <tr>\n",
       "      <th>1</th>\n",
       "      <td>2</td>\n",
       "      <td>2023-02-27</td>\n",
       "      <td>CUST002</td>\n",
       "      <td>Female</td>\n",
       "      <td>26</td>\n",
       "      <td>Clothing</td>\n",
       "      <td>2</td>\n",
       "      <td>500</td>\n",
       "      <td>1000</td>\n",
       "    </tr>\n",
       "    <tr>\n",
       "      <th>2</th>\n",
       "      <td>3</td>\n",
       "      <td>2023-01-13</td>\n",
       "      <td>CUST003</td>\n",
       "      <td>Male</td>\n",
       "      <td>50</td>\n",
       "      <td>Electronics</td>\n",
       "      <td>1</td>\n",
       "      <td>30</td>\n",
       "      <td>30</td>\n",
       "    </tr>\n",
       "    <tr>\n",
       "      <th>3</th>\n",
       "      <td>4</td>\n",
       "      <td>2023-05-21</td>\n",
       "      <td>CUST004</td>\n",
       "      <td>Male</td>\n",
       "      <td>37</td>\n",
       "      <td>Clothing</td>\n",
       "      <td>1</td>\n",
       "      <td>500</td>\n",
       "      <td>500</td>\n",
       "    </tr>\n",
       "    <tr>\n",
       "      <th>4</th>\n",
       "      <td>5</td>\n",
       "      <td>2023-05-06</td>\n",
       "      <td>CUST005</td>\n",
       "      <td>Male</td>\n",
       "      <td>30</td>\n",
       "      <td>Beauty</td>\n",
       "      <td>2</td>\n",
       "      <td>50</td>\n",
       "      <td>100</td>\n",
       "    </tr>\n",
       "    <tr>\n",
       "      <th>5</th>\n",
       "      <td>6</td>\n",
       "      <td>2023-04-25</td>\n",
       "      <td>CUST006</td>\n",
       "      <td>Female</td>\n",
       "      <td>45</td>\n",
       "      <td>Beauty</td>\n",
       "      <td>1</td>\n",
       "      <td>30</td>\n",
       "      <td>30</td>\n",
       "    </tr>\n",
       "    <tr>\n",
       "      <th>6</th>\n",
       "      <td>7</td>\n",
       "      <td>2023-03-13</td>\n",
       "      <td>CUST007</td>\n",
       "      <td>Male</td>\n",
       "      <td>46</td>\n",
       "      <td>Clothing</td>\n",
       "      <td>2</td>\n",
       "      <td>25</td>\n",
       "      <td>50</td>\n",
       "    </tr>\n",
       "    <tr>\n",
       "      <th>7</th>\n",
       "      <td>8</td>\n",
       "      <td>2023-02-22</td>\n",
       "      <td>CUST008</td>\n",
       "      <td>Male</td>\n",
       "      <td>30</td>\n",
       "      <td>Electronics</td>\n",
       "      <td>4</td>\n",
       "      <td>25</td>\n",
       "      <td>100</td>\n",
       "    </tr>\n",
       "    <tr>\n",
       "      <th>8</th>\n",
       "      <td>9</td>\n",
       "      <td>2023-12-13</td>\n",
       "      <td>CUST009</td>\n",
       "      <td>Male</td>\n",
       "      <td>63</td>\n",
       "      <td>Electronics</td>\n",
       "      <td>2</td>\n",
       "      <td>300</td>\n",
       "      <td>600</td>\n",
       "    </tr>\n",
       "    <tr>\n",
       "      <th>9</th>\n",
       "      <td>10</td>\n",
       "      <td>2023-10-07</td>\n",
       "      <td>CUST010</td>\n",
       "      <td>Female</td>\n",
       "      <td>52</td>\n",
       "      <td>Clothing</td>\n",
       "      <td>4</td>\n",
       "      <td>50</td>\n",
       "      <td>200</td>\n",
       "    </tr>\n",
       "    <tr>\n",
       "      <th>10</th>\n",
       "      <td>11</td>\n",
       "      <td>2023-02-14</td>\n",
       "      <td>CUST011</td>\n",
       "      <td>Male</td>\n",
       "      <td>23</td>\n",
       "      <td>Clothing</td>\n",
       "      <td>2</td>\n",
       "      <td>50</td>\n",
       "      <td>100</td>\n",
       "    </tr>\n",
       "    <tr>\n",
       "      <th>11</th>\n",
       "      <td>12</td>\n",
       "      <td>2023-10-30</td>\n",
       "      <td>CUST012</td>\n",
       "      <td>Male</td>\n",
       "      <td>35</td>\n",
       "      <td>Beauty</td>\n",
       "      <td>3</td>\n",
       "      <td>25</td>\n",
       "      <td>75</td>\n",
       "    </tr>\n",
       "    <tr>\n",
       "      <th>12</th>\n",
       "      <td>13</td>\n",
       "      <td>2023-08-05</td>\n",
       "      <td>CUST013</td>\n",
       "      <td>Male</td>\n",
       "      <td>22</td>\n",
       "      <td>Electronics</td>\n",
       "      <td>3</td>\n",
       "      <td>500</td>\n",
       "      <td>1500</td>\n",
       "    </tr>\n",
       "    <tr>\n",
       "      <th>13</th>\n",
       "      <td>14</td>\n",
       "      <td>2023-01-17</td>\n",
       "      <td>CUST014</td>\n",
       "      <td>Male</td>\n",
       "      <td>64</td>\n",
       "      <td>Clothing</td>\n",
       "      <td>4</td>\n",
       "      <td>30</td>\n",
       "      <td>120</td>\n",
       "    </tr>\n",
       "    <tr>\n",
       "      <th>14</th>\n",
       "      <td>15</td>\n",
       "      <td>2023-01-16</td>\n",
       "      <td>CUST015</td>\n",
       "      <td>Female</td>\n",
       "      <td>42</td>\n",
       "      <td>Electronics</td>\n",
       "      <td>4</td>\n",
       "      <td>500</td>\n",
       "      <td>2000</td>\n",
       "    </tr>\n",
       "    <tr>\n",
       "      <th>15</th>\n",
       "      <td>16</td>\n",
       "      <td>2023-02-17</td>\n",
       "      <td>CUST016</td>\n",
       "      <td>Male</td>\n",
       "      <td>19</td>\n",
       "      <td>Clothing</td>\n",
       "      <td>3</td>\n",
       "      <td>500</td>\n",
       "      <td>1500</td>\n",
       "    </tr>\n",
       "    <tr>\n",
       "      <th>16</th>\n",
       "      <td>17</td>\n",
       "      <td>2023-04-22</td>\n",
       "      <td>CUST017</td>\n",
       "      <td>Female</td>\n",
       "      <td>27</td>\n",
       "      <td>Clothing</td>\n",
       "      <td>4</td>\n",
       "      <td>25</td>\n",
       "      <td>100</td>\n",
       "    </tr>\n",
       "    <tr>\n",
       "      <th>17</th>\n",
       "      <td>18</td>\n",
       "      <td>2023-04-30</td>\n",
       "      <td>CUST018</td>\n",
       "      <td>Female</td>\n",
       "      <td>47</td>\n",
       "      <td>Electronics</td>\n",
       "      <td>2</td>\n",
       "      <td>25</td>\n",
       "      <td>50</td>\n",
       "    </tr>\n",
       "    <tr>\n",
       "      <th>18</th>\n",
       "      <td>19</td>\n",
       "      <td>2023-09-16</td>\n",
       "      <td>CUST019</td>\n",
       "      <td>Female</td>\n",
       "      <td>62</td>\n",
       "      <td>Clothing</td>\n",
       "      <td>2</td>\n",
       "      <td>25</td>\n",
       "      <td>50</td>\n",
       "    </tr>\n",
       "    <tr>\n",
       "      <th>19</th>\n",
       "      <td>20</td>\n",
       "      <td>2023-11-05</td>\n",
       "      <td>CUST020</td>\n",
       "      <td>Male</td>\n",
       "      <td>22</td>\n",
       "      <td>Clothing</td>\n",
       "      <td>3</td>\n",
       "      <td>300</td>\n",
       "      <td>900</td>\n",
       "    </tr>\n",
       "  </tbody>\n",
       "</table>\n",
       "</div>"
      ],
      "text/plain": [
       "    Transaction ID       Date Customer ID  Gender  Age Product Category  \\\n",
       "0                1 2023-11-24     CUST001    Male   34           Beauty   \n",
       "1                2 2023-02-27     CUST002  Female   26         Clothing   \n",
       "2                3 2023-01-13     CUST003    Male   50      Electronics   \n",
       "3                4 2023-05-21     CUST004    Male   37         Clothing   \n",
       "4                5 2023-05-06     CUST005    Male   30           Beauty   \n",
       "5                6 2023-04-25     CUST006  Female   45           Beauty   \n",
       "6                7 2023-03-13     CUST007    Male   46         Clothing   \n",
       "7                8 2023-02-22     CUST008    Male   30      Electronics   \n",
       "8                9 2023-12-13     CUST009    Male   63      Electronics   \n",
       "9               10 2023-10-07     CUST010  Female   52         Clothing   \n",
       "10              11 2023-02-14     CUST011    Male   23         Clothing   \n",
       "11              12 2023-10-30     CUST012    Male   35           Beauty   \n",
       "12              13 2023-08-05     CUST013    Male   22      Electronics   \n",
       "13              14 2023-01-17     CUST014    Male   64         Clothing   \n",
       "14              15 2023-01-16     CUST015  Female   42      Electronics   \n",
       "15              16 2023-02-17     CUST016    Male   19         Clothing   \n",
       "16              17 2023-04-22     CUST017  Female   27         Clothing   \n",
       "17              18 2023-04-30     CUST018  Female   47      Electronics   \n",
       "18              19 2023-09-16     CUST019  Female   62         Clothing   \n",
       "19              20 2023-11-05     CUST020    Male   22         Clothing   \n",
       "\n",
       "    Quantity  Price per Unit  Total Amount  \n",
       "0          3              50           150  \n",
       "1          2             500          1000  \n",
       "2          1              30            30  \n",
       "3          1             500           500  \n",
       "4          2              50           100  \n",
       "5          1              30            30  \n",
       "6          2              25            50  \n",
       "7          4              25           100  \n",
       "8          2             300           600  \n",
       "9          4              50           200  \n",
       "10         2              50           100  \n",
       "11         3              25            75  \n",
       "12         3             500          1500  \n",
       "13         4              30           120  \n",
       "14         4             500          2000  \n",
       "15         3             500          1500  \n",
       "16         4              25           100  \n",
       "17         2              25            50  \n",
       "18         2              25            50  \n",
       "19         3             300           900  "
      ]
     },
     "execution_count": 7,
     "metadata": {},
     "output_type": "execute_result"
    }
   ],
   "source": [
    "df.head(20)"
   ]
  },
  {
   "cell_type": "markdown",
   "id": "8e08ff1c",
   "metadata": {
    "papermill": {
     "duration": 0.01435,
     "end_time": "2025-07-09T19:03:05.435051",
     "exception": false,
     "start_time": "2025-07-09T19:03:05.420701",
     "status": "completed"
    },
    "tags": []
   },
   "source": [
    "Added a new column computed total to verify whether the Total sales amount is correctly calculated or not."
   ]
  },
  {
   "cell_type": "code",
   "execution_count": 8,
   "id": "c621bb50",
   "metadata": {
    "execution": {
     "iopub.execute_input": "2025-07-09T19:03:05.466094Z",
     "iopub.status.busy": "2025-07-09T19:03:05.464598Z",
     "iopub.status.idle": "2025-07-09T19:03:05.484118Z",
     "shell.execute_reply": "2025-07-09T19:03:05.482673Z"
    },
    "jupyter": {
     "source_hidden": true
    },
    "papermill": {
     "duration": 0.037655,
     "end_time": "2025-07-09T19:03:05.485737",
     "exception": false,
     "start_time": "2025-07-09T19:03:05.448082",
     "status": "completed"
    },
    "tags": []
   },
   "outputs": [
    {
     "name": "stdout",
     "output_type": "stream",
     "text": [
      "Error in number of records 0\n"
     ]
    },
    {
     "data": {
      "text/html": [
       "<div>\n",
       "<style scoped>\n",
       "    .dataframe tbody tr th:only-of-type {\n",
       "        vertical-align: middle;\n",
       "    }\n",
       "\n",
       "    .dataframe tbody tr th {\n",
       "        vertical-align: top;\n",
       "    }\n",
       "\n",
       "    .dataframe thead th {\n",
       "        text-align: right;\n",
       "    }\n",
       "</style>\n",
       "<table border=\"1\" class=\"dataframe\">\n",
       "  <thead>\n",
       "    <tr style=\"text-align: right;\">\n",
       "      <th></th>\n",
       "      <th>Transaction ID</th>\n",
       "      <th>Date</th>\n",
       "      <th>Customer ID</th>\n",
       "      <th>Gender</th>\n",
       "      <th>Age</th>\n",
       "      <th>Product Category</th>\n",
       "      <th>Quantity</th>\n",
       "      <th>Price per Unit</th>\n",
       "      <th>Total Amount</th>\n",
       "      <th>computed_total</th>\n",
       "    </tr>\n",
       "  </thead>\n",
       "  <tbody>\n",
       "    <tr>\n",
       "      <th>0</th>\n",
       "      <td>1</td>\n",
       "      <td>2023-11-24</td>\n",
       "      <td>CUST001</td>\n",
       "      <td>Male</td>\n",
       "      <td>34</td>\n",
       "      <td>Beauty</td>\n",
       "      <td>3</td>\n",
       "      <td>50</td>\n",
       "      <td>150</td>\n",
       "      <td>150</td>\n",
       "    </tr>\n",
       "    <tr>\n",
       "      <th>1</th>\n",
       "      <td>2</td>\n",
       "      <td>2023-02-27</td>\n",
       "      <td>CUST002</td>\n",
       "      <td>Female</td>\n",
       "      <td>26</td>\n",
       "      <td>Clothing</td>\n",
       "      <td>2</td>\n",
       "      <td>500</td>\n",
       "      <td>1000</td>\n",
       "      <td>1000</td>\n",
       "    </tr>\n",
       "    <tr>\n",
       "      <th>2</th>\n",
       "      <td>3</td>\n",
       "      <td>2023-01-13</td>\n",
       "      <td>CUST003</td>\n",
       "      <td>Male</td>\n",
       "      <td>50</td>\n",
       "      <td>Electronics</td>\n",
       "      <td>1</td>\n",
       "      <td>30</td>\n",
       "      <td>30</td>\n",
       "      <td>30</td>\n",
       "    </tr>\n",
       "    <tr>\n",
       "      <th>3</th>\n",
       "      <td>4</td>\n",
       "      <td>2023-05-21</td>\n",
       "      <td>CUST004</td>\n",
       "      <td>Male</td>\n",
       "      <td>37</td>\n",
       "      <td>Clothing</td>\n",
       "      <td>1</td>\n",
       "      <td>500</td>\n",
       "      <td>500</td>\n",
       "      <td>500</td>\n",
       "    </tr>\n",
       "    <tr>\n",
       "      <th>4</th>\n",
       "      <td>5</td>\n",
       "      <td>2023-05-06</td>\n",
       "      <td>CUST005</td>\n",
       "      <td>Male</td>\n",
       "      <td>30</td>\n",
       "      <td>Beauty</td>\n",
       "      <td>2</td>\n",
       "      <td>50</td>\n",
       "      <td>100</td>\n",
       "      <td>100</td>\n",
       "    </tr>\n",
       "    <tr>\n",
       "      <th>5</th>\n",
       "      <td>6</td>\n",
       "      <td>2023-04-25</td>\n",
       "      <td>CUST006</td>\n",
       "      <td>Female</td>\n",
       "      <td>45</td>\n",
       "      <td>Beauty</td>\n",
       "      <td>1</td>\n",
       "      <td>30</td>\n",
       "      <td>30</td>\n",
       "      <td>30</td>\n",
       "    </tr>\n",
       "    <tr>\n",
       "      <th>6</th>\n",
       "      <td>7</td>\n",
       "      <td>2023-03-13</td>\n",
       "      <td>CUST007</td>\n",
       "      <td>Male</td>\n",
       "      <td>46</td>\n",
       "      <td>Clothing</td>\n",
       "      <td>2</td>\n",
       "      <td>25</td>\n",
       "      <td>50</td>\n",
       "      <td>50</td>\n",
       "    </tr>\n",
       "    <tr>\n",
       "      <th>7</th>\n",
       "      <td>8</td>\n",
       "      <td>2023-02-22</td>\n",
       "      <td>CUST008</td>\n",
       "      <td>Male</td>\n",
       "      <td>30</td>\n",
       "      <td>Electronics</td>\n",
       "      <td>4</td>\n",
       "      <td>25</td>\n",
       "      <td>100</td>\n",
       "      <td>100</td>\n",
       "    </tr>\n",
       "    <tr>\n",
       "      <th>8</th>\n",
       "      <td>9</td>\n",
       "      <td>2023-12-13</td>\n",
       "      <td>CUST009</td>\n",
       "      <td>Male</td>\n",
       "      <td>63</td>\n",
       "      <td>Electronics</td>\n",
       "      <td>2</td>\n",
       "      <td>300</td>\n",
       "      <td>600</td>\n",
       "      <td>600</td>\n",
       "    </tr>\n",
       "    <tr>\n",
       "      <th>9</th>\n",
       "      <td>10</td>\n",
       "      <td>2023-10-07</td>\n",
       "      <td>CUST010</td>\n",
       "      <td>Female</td>\n",
       "      <td>52</td>\n",
       "      <td>Clothing</td>\n",
       "      <td>4</td>\n",
       "      <td>50</td>\n",
       "      <td>200</td>\n",
       "      <td>200</td>\n",
       "    </tr>\n",
       "    <tr>\n",
       "      <th>10</th>\n",
       "      <td>11</td>\n",
       "      <td>2023-02-14</td>\n",
       "      <td>CUST011</td>\n",
       "      <td>Male</td>\n",
       "      <td>23</td>\n",
       "      <td>Clothing</td>\n",
       "      <td>2</td>\n",
       "      <td>50</td>\n",
       "      <td>100</td>\n",
       "      <td>100</td>\n",
       "    </tr>\n",
       "    <tr>\n",
       "      <th>11</th>\n",
       "      <td>12</td>\n",
       "      <td>2023-10-30</td>\n",
       "      <td>CUST012</td>\n",
       "      <td>Male</td>\n",
       "      <td>35</td>\n",
       "      <td>Beauty</td>\n",
       "      <td>3</td>\n",
       "      <td>25</td>\n",
       "      <td>75</td>\n",
       "      <td>75</td>\n",
       "    </tr>\n",
       "    <tr>\n",
       "      <th>12</th>\n",
       "      <td>13</td>\n",
       "      <td>2023-08-05</td>\n",
       "      <td>CUST013</td>\n",
       "      <td>Male</td>\n",
       "      <td>22</td>\n",
       "      <td>Electronics</td>\n",
       "      <td>3</td>\n",
       "      <td>500</td>\n",
       "      <td>1500</td>\n",
       "      <td>1500</td>\n",
       "    </tr>\n",
       "    <tr>\n",
       "      <th>13</th>\n",
       "      <td>14</td>\n",
       "      <td>2023-01-17</td>\n",
       "      <td>CUST014</td>\n",
       "      <td>Male</td>\n",
       "      <td>64</td>\n",
       "      <td>Clothing</td>\n",
       "      <td>4</td>\n",
       "      <td>30</td>\n",
       "      <td>120</td>\n",
       "      <td>120</td>\n",
       "    </tr>\n",
       "    <tr>\n",
       "      <th>14</th>\n",
       "      <td>15</td>\n",
       "      <td>2023-01-16</td>\n",
       "      <td>CUST015</td>\n",
       "      <td>Female</td>\n",
       "      <td>42</td>\n",
       "      <td>Electronics</td>\n",
       "      <td>4</td>\n",
       "      <td>500</td>\n",
       "      <td>2000</td>\n",
       "      <td>2000</td>\n",
       "    </tr>\n",
       "    <tr>\n",
       "      <th>15</th>\n",
       "      <td>16</td>\n",
       "      <td>2023-02-17</td>\n",
       "      <td>CUST016</td>\n",
       "      <td>Male</td>\n",
       "      <td>19</td>\n",
       "      <td>Clothing</td>\n",
       "      <td>3</td>\n",
       "      <td>500</td>\n",
       "      <td>1500</td>\n",
       "      <td>1500</td>\n",
       "    </tr>\n",
       "    <tr>\n",
       "      <th>16</th>\n",
       "      <td>17</td>\n",
       "      <td>2023-04-22</td>\n",
       "      <td>CUST017</td>\n",
       "      <td>Female</td>\n",
       "      <td>27</td>\n",
       "      <td>Clothing</td>\n",
       "      <td>4</td>\n",
       "      <td>25</td>\n",
       "      <td>100</td>\n",
       "      <td>100</td>\n",
       "    </tr>\n",
       "    <tr>\n",
       "      <th>17</th>\n",
       "      <td>18</td>\n",
       "      <td>2023-04-30</td>\n",
       "      <td>CUST018</td>\n",
       "      <td>Female</td>\n",
       "      <td>47</td>\n",
       "      <td>Electronics</td>\n",
       "      <td>2</td>\n",
       "      <td>25</td>\n",
       "      <td>50</td>\n",
       "      <td>50</td>\n",
       "    </tr>\n",
       "    <tr>\n",
       "      <th>18</th>\n",
       "      <td>19</td>\n",
       "      <td>2023-09-16</td>\n",
       "      <td>CUST019</td>\n",
       "      <td>Female</td>\n",
       "      <td>62</td>\n",
       "      <td>Clothing</td>\n",
       "      <td>2</td>\n",
       "      <td>25</td>\n",
       "      <td>50</td>\n",
       "      <td>50</td>\n",
       "    </tr>\n",
       "    <tr>\n",
       "      <th>19</th>\n",
       "      <td>20</td>\n",
       "      <td>2023-11-05</td>\n",
       "      <td>CUST020</td>\n",
       "      <td>Male</td>\n",
       "      <td>22</td>\n",
       "      <td>Clothing</td>\n",
       "      <td>3</td>\n",
       "      <td>300</td>\n",
       "      <td>900</td>\n",
       "      <td>900</td>\n",
       "    </tr>\n",
       "  </tbody>\n",
       "</table>\n",
       "</div>"
      ],
      "text/plain": [
       "    Transaction ID       Date Customer ID  Gender  Age Product Category  \\\n",
       "0                1 2023-11-24     CUST001    Male   34           Beauty   \n",
       "1                2 2023-02-27     CUST002  Female   26         Clothing   \n",
       "2                3 2023-01-13     CUST003    Male   50      Electronics   \n",
       "3                4 2023-05-21     CUST004    Male   37         Clothing   \n",
       "4                5 2023-05-06     CUST005    Male   30           Beauty   \n",
       "5                6 2023-04-25     CUST006  Female   45           Beauty   \n",
       "6                7 2023-03-13     CUST007    Male   46         Clothing   \n",
       "7                8 2023-02-22     CUST008    Male   30      Electronics   \n",
       "8                9 2023-12-13     CUST009    Male   63      Electronics   \n",
       "9               10 2023-10-07     CUST010  Female   52         Clothing   \n",
       "10              11 2023-02-14     CUST011    Male   23         Clothing   \n",
       "11              12 2023-10-30     CUST012    Male   35           Beauty   \n",
       "12              13 2023-08-05     CUST013    Male   22      Electronics   \n",
       "13              14 2023-01-17     CUST014    Male   64         Clothing   \n",
       "14              15 2023-01-16     CUST015  Female   42      Electronics   \n",
       "15              16 2023-02-17     CUST016    Male   19         Clothing   \n",
       "16              17 2023-04-22     CUST017  Female   27         Clothing   \n",
       "17              18 2023-04-30     CUST018  Female   47      Electronics   \n",
       "18              19 2023-09-16     CUST019  Female   62         Clothing   \n",
       "19              20 2023-11-05     CUST020    Male   22         Clothing   \n",
       "\n",
       "    Quantity  Price per Unit  Total Amount  computed_total  \n",
       "0          3              50           150             150  \n",
       "1          2             500          1000            1000  \n",
       "2          1              30            30              30  \n",
       "3          1             500           500             500  \n",
       "4          2              50           100             100  \n",
       "5          1              30            30              30  \n",
       "6          2              25            50              50  \n",
       "7          4              25           100             100  \n",
       "8          2             300           600             600  \n",
       "9          4              50           200             200  \n",
       "10         2              50           100             100  \n",
       "11         3              25            75              75  \n",
       "12         3             500          1500            1500  \n",
       "13         4              30           120             120  \n",
       "14         4             500          2000            2000  \n",
       "15         3             500          1500            1500  \n",
       "16         4              25           100             100  \n",
       "17         2              25            50              50  \n",
       "18         2              25            50              50  \n",
       "19         3             300           900             900  "
      ]
     },
     "execution_count": 8,
     "metadata": {},
     "output_type": "execute_result"
    }
   ],
   "source": [
    "df['computed_total'] = df['Quantity'] * df['Price per Unit']\n",
    "\n",
    "\n",
    "error = df[df['computed_total'] != df['Total Amount']]\n",
    "print(\"Error in number of records\", len(error))\n",
    "df.head(20)\n"
   ]
  },
  {
   "cell_type": "markdown",
   "id": "e76327de",
   "metadata": {
    "papermill": {
     "duration": 0.013387,
     "end_time": "2025-07-09T19:03:05.511163",
     "exception": false,
     "start_time": "2025-07-09T19:03:05.497776",
     "status": "completed"
    },
    "tags": []
   },
   "source": [
    "Started some grouping w.r.t Product category "
   ]
  },
  {
   "cell_type": "code",
   "execution_count": 9,
   "id": "b0b2db38",
   "metadata": {
    "execution": {
     "iopub.execute_input": "2025-07-09T19:03:05.539753Z",
     "iopub.status.busy": "2025-07-09T19:03:05.539436Z",
     "iopub.status.idle": "2025-07-09T19:03:05.553977Z",
     "shell.execute_reply": "2025-07-09T19:03:05.552976Z"
    },
    "jupyter": {
     "source_hidden": true
    },
    "papermill": {
     "duration": 0.030872,
     "end_time": "2025-07-09T19:03:05.555362",
     "exception": false,
     "start_time": "2025-07-09T19:03:05.524490",
     "status": "completed"
    },
    "tags": []
   },
   "outputs": [
    {
     "data": {
      "text/html": [
       "<div>\n",
       "<style scoped>\n",
       "    .dataframe tbody tr th:only-of-type {\n",
       "        vertical-align: middle;\n",
       "    }\n",
       "\n",
       "    .dataframe tbody tr th {\n",
       "        vertical-align: top;\n",
       "    }\n",
       "\n",
       "    .dataframe thead th {\n",
       "        text-align: right;\n",
       "    }\n",
       "</style>\n",
       "<table border=\"1\" class=\"dataframe\">\n",
       "  <thead>\n",
       "    <tr style=\"text-align: right;\">\n",
       "      <th></th>\n",
       "      <th>Product Category</th>\n",
       "      <th>Total Sales Amount</th>\n",
       "      <th>Total Quantity</th>\n",
       "    </tr>\n",
       "  </thead>\n",
       "  <tbody>\n",
       "    <tr>\n",
       "      <th>0</th>\n",
       "      <td>Beauty</td>\n",
       "      <td>7120</td>\n",
       "      <td>58</td>\n",
       "    </tr>\n",
       "    <tr>\n",
       "      <th>1</th>\n",
       "      <td>Clothing</td>\n",
       "      <td>8735</td>\n",
       "      <td>56</td>\n",
       "    </tr>\n",
       "    <tr>\n",
       "      <th>2</th>\n",
       "      <td>Electronics</td>\n",
       "      <td>11340</td>\n",
       "      <td>40</td>\n",
       "    </tr>\n",
       "  </tbody>\n",
       "</table>\n",
       "</div>"
      ],
      "text/plain": [
       "  Product Category  Total Sales Amount  Total Quantity\n",
       "0           Beauty                7120              58\n",
       "1         Clothing                8735              56\n",
       "2      Electronics               11340              40"
      ]
     },
     "execution_count": 9,
     "metadata": {},
     "output_type": "execute_result"
    }
   ],
   "source": [
    "product_category_summary = df.groupby('Product Category').agg(\n",
    "    {\n",
    "    'Total Amount': 'sum',\n",
    "    'Quantity': 'sum'\n",
    "    }\n",
    ").reset_index()\n",
    "product_category_summary.columns = ['Product Category', 'Total Sales Amount', 'Total Quantity']\n",
    "product_category_summary"
   ]
  },
  {
   "cell_type": "markdown",
   "id": "4c196ce3",
   "metadata": {
    "papermill": {
     "duration": 0.013595,
     "end_time": "2025-07-09T19:03:05.581720",
     "exception": false,
     "start_time": "2025-07-09T19:03:05.568125",
     "status": "completed"
    },
    "tags": []
   },
   "source": [
    "Minimum selling Product category with amount"
   ]
  },
  {
   "cell_type": "code",
   "execution_count": 10,
   "id": "c3edd076",
   "metadata": {
    "execution": {
     "iopub.execute_input": "2025-07-09T19:03:05.611439Z",
     "iopub.status.busy": "2025-07-09T19:03:05.610689Z",
     "iopub.status.idle": "2025-07-09T19:03:05.618040Z",
     "shell.execute_reply": "2025-07-09T19:03:05.616353Z"
    },
    "jupyter": {
     "source_hidden": true
    },
    "papermill": {
     "duration": 0.024317,
     "end_time": "2025-07-09T19:03:05.619513",
     "exception": false,
     "start_time": "2025-07-09T19:03:05.595196",
     "status": "completed"
    },
    "tags": []
   },
   "outputs": [
    {
     "name": "stdout",
     "output_type": "stream",
     "text": [
      "Minimum selling category of item with it total sales : Beauty → ₹7120\n"
     ]
    }
   ],
   "source": [
    "min_category = product_category_summary.loc[product_category_summary['Total Sales Amount'].idxmin()]\n",
    "print(f\"Minimum selling category of item with it total sales : {min_category['Product Category']} → ₹{min_category['Total Sales Amount']}\")"
   ]
  },
  {
   "cell_type": "markdown",
   "id": "1fa19034",
   "metadata": {
    "papermill": {
     "duration": 0.014694,
     "end_time": "2025-07-09T19:03:05.646104",
     "exception": false,
     "start_time": "2025-07-09T19:03:05.631410",
     "status": "completed"
    },
    "tags": []
   },
   "source": [
    "Maximum selling Product category with amount"
   ]
  },
  {
   "cell_type": "code",
   "execution_count": 11,
   "id": "b5938fde",
   "metadata": {
    "execution": {
     "iopub.execute_input": "2025-07-09T19:03:05.679678Z",
     "iopub.status.busy": "2025-07-09T19:03:05.678896Z",
     "iopub.status.idle": "2025-07-09T19:03:05.686577Z",
     "shell.execute_reply": "2025-07-09T19:03:05.685036Z"
    },
    "jupyter": {
     "source_hidden": true
    },
    "papermill": {
     "duration": 0.026847,
     "end_time": "2025-07-09T19:03:05.688539",
     "exception": false,
     "start_time": "2025-07-09T19:03:05.661692",
     "status": "completed"
    },
    "tags": []
   },
   "outputs": [
    {
     "name": "stdout",
     "output_type": "stream",
     "text": [
      "Max selling category of item with it total sales : Electronics → ₹11340\n"
     ]
    }
   ],
   "source": [
    "max_category = product_category_summary.loc[product_category_summary['Total Sales Amount'].idxmax()]\n",
    "print(f\"Max selling category of item with it total sales : {max_category['Product Category']} → ₹{max_category['Total Sales Amount']}\")"
   ]
  },
  {
   "cell_type": "markdown",
   "id": "5a80664a",
   "metadata": {
    "papermill": {
     "duration": 0.01603,
     "end_time": "2025-07-09T19:03:05.717127",
     "exception": false,
     "start_time": "2025-07-09T19:03:05.701097",
     "status": "completed"
    },
    "tags": []
   },
   "source": [
    "Grouped according to Product Category and Gender to understand Gender-wise bifurcation in each Product Category."
   ]
  },
  {
   "cell_type": "code",
   "execution_count": 12,
   "id": "07d035c8",
   "metadata": {
    "execution": {
     "iopub.execute_input": "2025-07-09T19:03:05.751387Z",
     "iopub.status.busy": "2025-07-09T19:03:05.750729Z",
     "iopub.status.idle": "2025-07-09T19:03:05.767745Z",
     "shell.execute_reply": "2025-07-09T19:03:05.766222Z"
    },
    "jupyter": {
     "source_hidden": true
    },
    "papermill": {
     "duration": 0.036535,
     "end_time": "2025-07-09T19:03:05.769247",
     "exception": false,
     "start_time": "2025-07-09T19:03:05.732712",
     "status": "completed"
    },
    "tags": []
   },
   "outputs": [
    {
     "data": {
      "text/html": [
       "<div>\n",
       "<style scoped>\n",
       "    .dataframe tbody tr th:only-of-type {\n",
       "        vertical-align: middle;\n",
       "    }\n",
       "\n",
       "    .dataframe tbody tr th {\n",
       "        vertical-align: top;\n",
       "    }\n",
       "\n",
       "    .dataframe thead th {\n",
       "        text-align: right;\n",
       "    }\n",
       "</style>\n",
       "<table border=\"1\" class=\"dataframe\">\n",
       "  <thead>\n",
       "    <tr style=\"text-align: right;\">\n",
       "      <th></th>\n",
       "      <th>Product Category</th>\n",
       "      <th>Gender</th>\n",
       "      <th>Total Amount</th>\n",
       "    </tr>\n",
       "  </thead>\n",
       "  <tbody>\n",
       "    <tr>\n",
       "      <th>0</th>\n",
       "      <td>Beauty</td>\n",
       "      <td>Female</td>\n",
       "      <td>4910</td>\n",
       "    </tr>\n",
       "    <tr>\n",
       "      <th>1</th>\n",
       "      <td>Beauty</td>\n",
       "      <td>Male</td>\n",
       "      <td>2210</td>\n",
       "    </tr>\n",
       "    <tr>\n",
       "      <th>2</th>\n",
       "      <td>Clothing</td>\n",
       "      <td>Female</td>\n",
       "      <td>3145</td>\n",
       "    </tr>\n",
       "    <tr>\n",
       "      <th>3</th>\n",
       "      <td>Clothing</td>\n",
       "      <td>Male</td>\n",
       "      <td>5590</td>\n",
       "    </tr>\n",
       "    <tr>\n",
       "      <th>4</th>\n",
       "      <td>Electronics</td>\n",
       "      <td>Female</td>\n",
       "      <td>6910</td>\n",
       "    </tr>\n",
       "    <tr>\n",
       "      <th>5</th>\n",
       "      <td>Electronics</td>\n",
       "      <td>Male</td>\n",
       "      <td>4430</td>\n",
       "    </tr>\n",
       "  </tbody>\n",
       "</table>\n",
       "</div>"
      ],
      "text/plain": [
       "  Product Category  Gender  Total Amount\n",
       "0           Beauty  Female          4910\n",
       "1           Beauty    Male          2210\n",
       "2         Clothing  Female          3145\n",
       "3         Clothing    Male          5590\n",
       "4      Electronics  Female          6910\n",
       "5      Electronics    Male          4430"
      ]
     },
     "execution_count": 12,
     "metadata": {},
     "output_type": "execute_result"
    }
   ],
   "source": [
    "category_gender_sales = df.groupby(['Product Category', 'Gender']).agg({\n",
    "    'Total Amount': 'sum'\n",
    "}).reset_index()\n",
    "category_gender_sales"
   ]
  },
  {
   "cell_type": "markdown",
   "id": "56c4c405",
   "metadata": {
    "papermill": {
     "duration": 0.016301,
     "end_time": "2025-07-09T19:03:05.798221",
     "exception": false,
     "start_time": "2025-07-09T19:03:05.781920",
     "status": "completed"
    },
    "tags": []
   },
   "source": [
    "Simple Re-structuring of the dataframe, Product category is treated as index."
   ]
  },
  {
   "cell_type": "code",
   "execution_count": 13,
   "id": "60a4602f",
   "metadata": {
    "execution": {
     "iopub.execute_input": "2025-07-09T19:03:05.833103Z",
     "iopub.status.busy": "2025-07-09T19:03:05.832489Z",
     "iopub.status.idle": "2025-07-09T19:03:05.849441Z",
     "shell.execute_reply": "2025-07-09T19:03:05.848160Z"
    },
    "jupyter": {
     "source_hidden": true
    },
    "papermill": {
     "duration": 0.036989,
     "end_time": "2025-07-09T19:03:05.851292",
     "exception": false,
     "start_time": "2025-07-09T19:03:05.814303",
     "status": "completed"
    },
    "tags": []
   },
   "outputs": [
    {
     "data": {
      "text/html": [
       "<div>\n",
       "<style scoped>\n",
       "    .dataframe tbody tr th:only-of-type {\n",
       "        vertical-align: middle;\n",
       "    }\n",
       "\n",
       "    .dataframe tbody tr th {\n",
       "        vertical-align: top;\n",
       "    }\n",
       "\n",
       "    .dataframe thead th {\n",
       "        text-align: right;\n",
       "    }\n",
       "</style>\n",
       "<table border=\"1\" class=\"dataframe\">\n",
       "  <thead>\n",
       "    <tr style=\"text-align: right;\">\n",
       "      <th>Gender</th>\n",
       "      <th>Female</th>\n",
       "      <th>Male</th>\n",
       "      <th>Total Sales</th>\n",
       "    </tr>\n",
       "    <tr>\n",
       "      <th>Product Category</th>\n",
       "      <th></th>\n",
       "      <th></th>\n",
       "      <th></th>\n",
       "    </tr>\n",
       "  </thead>\n",
       "  <tbody>\n",
       "    <tr>\n",
       "      <th>Beauty</th>\n",
       "      <td>4910</td>\n",
       "      <td>2210</td>\n",
       "      <td>7120</td>\n",
       "    </tr>\n",
       "    <tr>\n",
       "      <th>Clothing</th>\n",
       "      <td>3145</td>\n",
       "      <td>5590</td>\n",
       "      <td>8735</td>\n",
       "    </tr>\n",
       "    <tr>\n",
       "      <th>Electronics</th>\n",
       "      <td>6910</td>\n",
       "      <td>4430</td>\n",
       "      <td>11340</td>\n",
       "    </tr>\n",
       "  </tbody>\n",
       "</table>\n",
       "</div>"
      ],
      "text/plain": [
       "Gender            Female  Male  Total Sales\n",
       "Product Category                           \n",
       "Beauty              4910  2210         7120\n",
       "Clothing            3145  5590         8735\n",
       "Electronics         6910  4430        11340"
      ]
     },
     "execution_count": 13,
     "metadata": {},
     "output_type": "execute_result"
    }
   ],
   "source": [
    "pivot_sales = category_gender_sales.pivot(index='Product Category', columns='Gender', values='Total Amount').fillna(0)\n",
    "\n",
    "pivot_sales['Total Sales'] = pivot_sales.sum(axis=1)\n",
    "\n",
    "pivot_sales"
   ]
  },
  {
   "cell_type": "markdown",
   "id": "4c065150",
   "metadata": {
    "papermill": {
     "duration": 0.014279,
     "end_time": "2025-07-09T19:03:05.877550",
     "exception": false,
     "start_time": "2025-07-09T19:03:05.863271",
     "status": "completed"
    },
    "tags": []
   },
   "source": [
    "Graph Visualization"
   ]
  },
  {
   "cell_type": "code",
   "execution_count": 14,
   "id": "635c9756",
   "metadata": {
    "execution": {
     "iopub.execute_input": "2025-07-09T19:03:05.911043Z",
     "iopub.status.busy": "2025-07-09T19:03:05.910746Z",
     "iopub.status.idle": "2025-07-09T19:03:06.108635Z",
     "shell.execute_reply": "2025-07-09T19:03:06.107153Z"
    },
    "jupyter": {
     "source_hidden": true
    },
    "papermill": {
     "duration": 0.216016,
     "end_time": "2025-07-09T19:03:06.110193",
     "exception": false,
     "start_time": "2025-07-09T19:03:05.894177",
     "status": "completed"
    },
    "tags": []
   },
   "outputs": [
    {
     "data": {
      "image/png": "[encoded data removed]",
      "text/plain": [
       "<Figure size 1000x600 with 1 Axes>"
      ]
     },
     "metadata": {},
     "output_type": "display_data"
    }
   ],
   "source": [
    "\n",
    "plt.figure(figsize=(10, 6))\n",
    "sns.barplot(data=product_category_summary, x='Product Category', y='Total Sales Amount')\n",
    "\n",
    "plt.title(\"Total Sales by Product Category\")\n",
    "plt.ylabel(\"Total Sales Amount in rupee \")\n",
    "plt.xlabel(\"Product Category\")\n",
    "plt.show()"
   ]
  },
  {
   "cell_type": "code",
   "execution_count": 15,
   "id": "574da08d",
   "metadata": {
    "execution": {
     "iopub.execute_input": "2025-07-09T19:03:06.139908Z",
     "iopub.status.busy": "2025-07-09T19:03:06.139615Z",
     "iopub.status.idle": "2025-07-09T19:03:06.304082Z",
     "shell.execute_reply": "2025-07-09T19:03:06.302835Z"
    },
    "jupyter": {
     "source_hidden": true
    },
    "papermill": {
     "duration": 0.182587,
     "end_time": "2025-07-09T19:03:06.305458",
     "exception": false,
     "start_time": "2025-07-09T19:03:06.122871",
     "status": "completed"
    },
    "tags": []
   },
   "outputs": [
    {
     "data": {
      "image/png": "[encoded data removed]",
      "text/plain": [
       "<Figure size 600x600 with 1 Axes>"
      ]
     },
     "metadata": {},
     "output_type": "display_data"
    },
    {
     "data": {
      "image/png": "[encoded data removed]",
      "text/plain": [
       "<Figure size 600x600 with 1 Axes>"
      ]
     },
     "metadata": {},
     "output_type": "display_data"
    }
   ],
   "source": [
    "\n",
    "gender_category_sales = df.groupby(['Gender', 'Product Category'])['Total Amount'].sum().reset_index()\n",
    "\n",
    "\n",
    "genders = gender_category_sales['Gender'].unique()\n",
    "\n",
    "for gender in genders:\n",
    "    plt.figure(figsize=(6, 6))\n",
    "    data = gender_category_sales[gender_category_sales['Gender'] == gender]\n",
    "    plt.pie(\n",
    "        data['Total Amount'],\n",
    "        labels=data['Product Category'],\n",
    "        autopct='%1.1f%%',\n",
    "        startangle=140,\n",
    "        colors=sns.color_palette('pastel')\n",
    "    )\n",
    "    plt.title(f\"Sales Distribution by Product Category ({gender})\")\n",
    "    plt.axis('equal')\n",
    "    plt.tight_layout()\n",
    "    plt.show()\n"
   ]
  },
  {
   "cell_type": "markdown",
   "id": "7720fc26",
   "metadata": {
    "papermill": {
     "duration": 0.015483,
     "end_time": "2025-07-09T19:03:06.335598",
     "exception": false,
     "start_time": "2025-07-09T19:03:06.320115",
     "status": "completed"
    },
    "tags": []
   },
   "source": [
    "Saving the tranformed and aggregated data in separate folders"
   ]
  },
  {
   "cell_type": "code",
   "execution_count": 16,
   "id": "0c07a21e",
   "metadata": {
    "execution": {
     "iopub.execute_input": "2025-07-09T19:03:06.367014Z",
     "iopub.status.busy": "2025-07-09T19:03:06.365939Z",
     "iopub.status.idle": "2025-07-09T19:03:06.373305Z",
     "shell.execute_reply": "2025-07-09T19:03:06.372242Z"
    },
    "jupyter": {
     "source_hidden": true
    },
    "papermill": {
     "duration": 0.024775,
     "end_time": "2025-07-09T19:03:06.375184",
     "exception": false,
     "start_time": "2025-07-09T19:03:06.350409",
     "status": "completed"
    },
    "tags": []
   },
   "outputs": [],
   "source": [
    "os.makedirs(\"../data/transformed\", exist_ok=True)"
   ]
  },
  {
   "cell_type": "code",
   "execution_count": 17,
   "id": "85c8f8ff",
   "metadata": {
    "execution": {
     "iopub.execute_input": "2025-07-09T19:03:06.406084Z",
     "iopub.status.busy": "2025-07-09T19:03:06.405516Z",
     "iopub.status.idle": "2025-07-09T19:03:06.412911Z",
     "shell.execute_reply": "2025-07-09T19:03:06.411883Z"
    },
    "jupyter": {
     "source_hidden": true
    },
    "papermill": {
     "duration": 0.025609,
     "end_time": "2025-07-09T19:03:06.414435",
     "exception": false,
     "start_time": "2025-07-09T19:03:06.388826",
     "status": "completed"
    },
    "tags": []
   },
   "outputs": [],
   "source": [
    "df.to_csv(\"../data/transformed/final_cleaned_sales_data.csv\", index=False)"
   ]
  },
  {
   "cell_type": "code",
   "execution_count": 18,
   "id": "bada335e",
   "metadata": {
    "execution": {
     "iopub.execute_input": "2025-07-09T19:03:06.445827Z",
     "iopub.status.busy": "2025-07-09T19:03:06.445409Z",
     "iopub.status.idle": "2025-07-09T19:03:06.450508Z",
     "shell.execute_reply": "2025-07-09T19:03:06.449118Z"
    },
    "jupyter": {
     "source_hidden": true
    },
    "papermill": {
     "duration": 0.023872,
     "end_time": "2025-07-09T19:03:06.452253",
     "exception": false,
     "start_time": "2025-07-09T19:03:06.428381",
     "status": "completed"
    },
    "tags": []
   },
   "outputs": [],
   "source": [
    "os.makedirs(\"../data/aggregated\", exist_ok=True)"
   ]
  },
  {
   "cell_type": "code",
   "execution_count": 19,
   "id": "1d986834",
   "metadata": {
    "execution": {
     "iopub.execute_input": "2025-07-09T19:03:06.484418Z",
     "iopub.status.busy": "2025-07-09T19:03:06.484004Z",
     "iopub.status.idle": "2025-07-09T19:03:06.490669Z",
     "shell.execute_reply": "2025-07-09T19:03:06.489318Z"
    },
    "jupyter": {
     "source_hidden": true
    },
    "papermill": {
     "duration": 0.02477,
     "end_time": "2025-07-09T19:03:06.492200",
     "exception": false,
     "start_time": "2025-07-09T19:03:06.467430",
     "status": "completed"
    },
    "tags": []
   },
   "outputs": [],
   "source": [
    "product_category_summary.to_csv(\"../data/aggregated/sales_by_category.csv\", index=False)"
   ]
  },
  {
   "cell_type": "code",
   "execution_count": 20,
   "id": "bc630499",
   "metadata": {
    "execution": {
     "iopub.execute_input": "2025-07-09T19:03:06.522114Z",
     "iopub.status.busy": "2025-07-09T19:03:06.521549Z",
     "iopub.status.idle": "2025-07-09T19:03:06.528665Z",
     "shell.execute_reply": "2025-07-09T19:03:06.527342Z"
    },
    "jupyter": {
     "source_hidden": true
    },
    "papermill": {
     "duration": 0.024926,
     "end_time": "2025-07-09T19:03:06.530315",
     "exception": false,
     "start_time": "2025-07-09T19:03:06.505389",
     "status": "completed"
    },
    "tags": []
   },
   "outputs": [],
   "source": [
    "category_gender_sales.to_csv(\"../data/aggregated/sales_by_gender.csv\", index=False)\n"
   ]
  }
 ],
 "metadata": {
  "kernelspec": {
   "display_name": "Python 3",
   "language": "python",
   "name": "python3"
  },
  "language_info": {
   "codemirror_mode": {
    "name": "ipython",
    "version": 3
   },
   "file_extension": ".py",
   "mimetype": "text/x-python",
   "name": "python",
   "nbconvert_exporter": "python",
   "pygments_lexer": "ipython3",
   "version": "3.9.23"
  },
  "papermill": {
   "default_parameters": {},
   "duration": 4.659618,
   "end_time": "2025-07-09T19:03:06.966666",
   "environment_variables": {},
   "exception": null,
   "input_path": "/opt/airflow/notebooks/transform.ipynb",
   "output_path": "/opt/airflow/notebooks/transform_executed_notebooks_by_date/out_transform_2025-07-09.ipynb",
   "parameters": {},
   "start_time": "2025-07-09T19:03:02.307048",
   "version": "2.6.0"
  }
 },
 "nbformat": 4,
 "nbformat_minor": 5
}