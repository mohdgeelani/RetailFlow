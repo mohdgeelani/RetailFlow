{
 "cells": [
  {
   "cell_type": "markdown",
   "id": "e9a66004",
   "metadata": {},
   "source": [
    "Importing Libraries"
   ]
  },
  {
   "cell_type": "code",
   "execution_count": null,
   "id": "00d213eb",
   "metadata": {},
   "outputs": [],
   "source": [
    "import pandas as pd\n",
    "import os\n",
    "from datetime import datetime\n",
    "import matplotlib.pyplot as plt\n",
    "import seaborn as sns"
   ]
  },
  {
   "cell_type": "markdown",
   "id": "4e35b116",
   "metadata": {},
   "source": [
    "Loading the fresh csv file from processed data folder"
   ]
  },
  {
   "cell_type": "code",
   "execution_count": null,
   "id": "be7a3021",
   "metadata": {},
   "outputs": [],
   "source": [
    "def get_processed_dir():\n",
    "    project_root = os.path.abspath(os.path.join(os.getcwd(), \"..\"))  \n",
    "    local_path = os.path.join(project_root, \"data\", \"processed_data\")\n",
    "    # Detects path based on environment (Docker vs. local)\n",
    "    if os.path.exists(\"/opt/airflow/data/processed_data\"):\n",
    "        return \"/opt/airflow/data/processed_data\"  # Docker path\n",
    "    else:\n",
    "        return local_path # Local path\n",
    "    \n",
    "process_folder = get_processed_dir()\n",
    "print(process_folder)\n",
    "\n",
    "files = [ f for f in os.listdir(process_folder) if f.startswith('cleaned_') and \n",
    "         f.endswith('.csv')]\n",
    "files.sort(reverse=True)\n",
    "latest_file = files[0]\n",
    "latest_path_input = os.path.join(process_folder,latest_file)\n",
    "df = pd.read_csv(latest_path_input)\n",
    "\n",
    "print(\"laoding file \", latest_file)\n",
    "df.head(100)"
   ]
  },
  {
   "cell_type": "markdown",
   "id": "10af0571",
   "metadata": {},
   "source": [
    "Check for duplicate records\n"
   ]
  },
  {
   "cell_type": "code",
   "execution_count": null,
   "id": "a1a5bfba",
   "metadata": {},
   "outputs": [],
   "source": [
    "duplicate_count = df.duplicated().sum()\n",
    "print(\"Number of duplicated rows\", duplicate_count)"
   ]
  },
  {
   "cell_type": "markdown",
   "id": "c4401920",
   "metadata": {},
   "source": [
    "Check for null/missing values"
   ]
  },
  {
   "cell_type": "code",
   "execution_count": null,
   "id": "30610d2c",
   "metadata": {},
   "outputs": [],
   "source": [
    "df.isnull().sum()\n"
   ]
  },
  {
   "cell_type": "markdown",
   "id": "ff2ebdb2",
   "metadata": {},
   "source": [
    "Checking the data frame column datatype information"
   ]
  },
  {
   "cell_type": "code",
   "execution_count": null,
   "id": "1122e299",
   "metadata": {},
   "outputs": [],
   "source": [
    "df.info()"
   ]
  },
  {
   "cell_type": "markdown",
   "id": "745c112b",
   "metadata": {},
   "source": [
    "Changing the Date column datatype to datetime datatype"
   ]
  },
  {
   "cell_type": "code",
   "execution_count": null,
   "id": "f0fb22d3",
   "metadata": {},
   "outputs": [],
   "source": [
    "df['Date'] = pd.to_datetime(df['Date'])\n",
    "df.info()"
   ]
  },
  {
   "cell_type": "code",
   "execution_count": null,
   "id": "53725487",
   "metadata": {},
   "outputs": [],
   "source": [
    "df.head(20)"
   ]
  },
  {
   "cell_type": "markdown",
   "id": "8e08ff1c",
   "metadata": {},
   "source": [
    "Added a new column computed total to verify whether the Total sales amount is correctly calculated or not."
   ]
  },
  {
   "cell_type": "code",
   "execution_count": null,
   "id": "c621bb50",
   "metadata": {},
   "outputs": [],
   "source": [
    "df['computed_total'] = df['Quantity'] * df['Price per Unit']\n",
    "\n",
    "\n",
    "error = df[df['computed_total'] != df['Total Amount']]\n",
    "print(\"Error in number of records\", len(error))\n",
    "df.head(20)\n"
   ]
  },
  {
   "cell_type": "markdown",
   "id": "e76327de",
   "metadata": {},
   "source": [
    "Started some grouping w.r.t Product category "
   ]
  },
  {
   "cell_type": "code",
   "execution_count": null,
   "id": "b0b2db38",
   "metadata": {},
   "outputs": [],
   "source": [
    "product_category_summary = df.groupby('Product Category').agg(\n",
    "    {\n",
    "    'Total Amount': 'sum',\n",
    "    'Quantity': 'sum'\n",
    "    }\n",
    ").reset_index()\n",
    "product_category_summary.columns = ['Product Category', 'Total Sales Amount', 'Total Quantity']\n",
    "product_category_summary"
   ]
  },
  {
   "cell_type": "markdown",
   "id": "4c196ce3",
   "metadata": {},
   "source": [
    "Minimum selling Product category with amount"
   ]
  },
  {
   "cell_type": "code",
   "execution_count": null,
   "id": "c3edd076",
   "metadata": {},
   "outputs": [],
   "source": [
    "min_category = product_category_summary.loc[product_category_summary['Total Sales Amount'].idxmin()]\n",
    "print(f\"Minimum selling category of item with it total sales : {min_category['Product Category']} → ₹{min_category['Total Sales Amount']}\")"
   ]
  },
  {
   "cell_type": "markdown",
   "id": "1fa19034",
   "metadata": {},
   "source": [
    "Maximum selling Product category with amount"
   ]
  },
  {
   "cell_type": "code",
   "execution_count": null,
   "id": "b5938fde",
   "metadata": {},
   "outputs": [],
   "source": [
    "max_category = product_category_summary.loc[product_category_summary['Total Sales Amount'].idxmax()]\n",
    "print(f\"Max selling category of item with it total sales : {max_category['Product Category']} → ₹{max_category['Total Sales Amount']}\")"
   ]
  },
  {
   "cell_type": "markdown",
   "id": "5a80664a",
   "metadata": {},
   "source": [
    "Grouped according to Product Category and Gender to understand Gender-wise bifurcation in each Product Category."
   ]
  },
  {
   "cell_type": "code",
   "execution_count": null,
   "id": "07d035c8",
   "metadata": {},
   "outputs": [],
   "source": [
    "category_gender_sales = df.groupby(['Product Category', 'Gender']).agg({\n",
    "    'Total Amount': 'sum'\n",
    "}).reset_index()\n",
    "category_gender_sales"
   ]
  },
  {
   "cell_type": "markdown",
   "id": "56c4c405",
   "metadata": {},
   "source": [
    "Simple Re-structuring of the dataframe, Product category is treated as index."
   ]
  },
  {
   "cell_type": "code",
   "execution_count": null,
   "id": "60a4602f",
   "metadata": {},
   "outputs": [],
   "source": [
    "pivot_sales = category_gender_sales.pivot(index='Product Category', columns='Gender', values='Total Amount').fillna(0)\n",
    "\n",
    "pivot_sales['Total Sales'] = pivot_sales.sum(axis=1)\n",
    "\n",
    "pivot_sales"
   ]
  },
  {
   "cell_type": "markdown",
   "id": "4c065150",
   "metadata": {},
   "source": [
    "Graph Visualization"
   ]
  },
  {
   "cell_type": "code",
   "execution_count": null,
   "id": "635c9756",
   "metadata": {},
   "outputs": [],
   "source": [
    "\n",
    "plt.figure(figsize=(10, 6))\n",
    "sns.barplot(data=product_category_summary, x='Product Category', y='Total Sales Amount')\n",
    "\n",
    "plt.title(\"Total Sales by Product Category\")\n",
    "plt.ylabel(\"Total Sales Amount in rupee \")\n",
    "plt.xlabel(\"Product Category\")\n",
    "plt.show()"
   ]
  },
  {
   "cell_type": "code",
   "execution_count": null,
   "id": "574da08d",
   "metadata": {},
   "outputs": [],
   "source": [
    "\n",
    "gender_category_sales = df.groupby(['Gender', 'Product Category'])['Total Amount'].sum().reset_index()\n",
    "\n",
    "\n",
    "genders = gender_category_sales['Gender'].unique()\n",
    "\n",
    "for gender in genders:\n",
    "    plt.figure(figsize=(6, 6))\n",
    "    data = gender_category_sales[gender_category_sales['Gender'] == gender]\n",
    "    plt.pie(\n",
    "        data['Total Amount'],\n",
    "        labels=data['Product Category'],\n",
    "        autopct='%1.1f%%',\n",
    "        startangle=140,\n",
    "        colors=sns.color_palette('pastel')\n",
    "    )\n",
    "    plt.title(f\"Sales Distribution by Product Category ({gender})\")\n",
    "    plt.axis('equal')\n",
    "    plt.tight_layout()\n",
    "    plt.show()\n"
   ]
  },
  {
   "cell_type": "markdown",
   "id": "7720fc26",
   "metadata": {},
   "source": [
    "Saving the tranformed and aggregated data in separate folders"
   ]
  },
  {
   "cell_type": "code",
   "execution_count": null,
   "id": "0c07a21e",
   "metadata": {},
   "outputs": [],
   "source": [
    "os.makedirs(\"../data/transformed\", exist_ok=True)"
   ]
  },
  {
   "cell_type": "code",
   "execution_count": null,
   "id": "85c8f8ff",
   "metadata": {},
   "outputs": [],
   "source": [
    "df.to_csv(\"../data/transformed/final_cleaned_sales_data.csv\", index=False)"
   ]
  },
  {
   "cell_type": "code",
   "execution_count": null,
   "id": "bada335e",
   "metadata": {},
   "outputs": [],
   "source": [
    "os.makedirs(\"../data/aggregated\", exist_ok=True)"
   ]
  },
  {
   "cell_type": "code",
   "execution_count": null,
   "id": "1d986834",
   "metadata": {},
   "outputs": [],
   "source": [
    "product_category_summary.to_csv(\"../data/aggregated/sales_by_category.csv\", index=False)"
   ]
  },
  {
   "cell_type": "code",
   "execution_count": null,
   "id": "bc630499",
   "metadata": {},
   "outputs": [],
   "source": [
    "category_gender_sales.to_csv(\"../data/aggregated/sales_by_gender.csv\", index=False)\n"
   ]
  }
 ],
 "metadata": {
  "kernelspec": {
   "display_name": "Python 3",
   "language": "python",
   "name": "python3"
  },
  "language_info": {
   "codemirror_mode": {
    "name": "ipython",
    "version": 3
   },
   "file_extension": ".py",
   "mimetype": "text/x-python",
   "name": "python",
   "nbconvert_exporter": "python",
   "pygments_lexer": "ipython3",
   "version": "3.13.5"
  }
 },
 "nbformat": 4,
 "nbformat_minor": 5
}
